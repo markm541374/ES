{
 "cells": [
  {
   "cell_type": "code",
   "execution_count": 1,
   "metadata": {
    "collapsed": true
   },
   "outputs": [],
   "source": [
    "import GPd\n",
    "import scipy as sp\n",
    "import sympy as sy\n",
    "import numpy as np\n",
    "sy.init_printing(use_latex=True)\n",
    "from matplotlib import pyplot as plt\n",
    "import seaborn as sns\n",
    "import pandas as pd"
   ]
  },
  {
   "cell_type": "code",
   "execution_count": 2,
   "metadata": {
    "collapsed": false
   },
   "outputs": [
    {
     "name": "stdout",
     "output_type": "stream",
     "text": [
      "A*exp(-B*(aa - ab)**2 - C*(ac - ad)**2 - D*(ae - af)**2)\n",
      "-A*B*(2*aa - 2*ab)*exp(-B*(aa - ab)**2 - C*(ac - ad)**2 - D*(ae - af)**2)\n",
      "2*B*(-aa + ab)\n",
      "<function <lambda> at 0x7f654db01f50>\n"
     ]
    },
    {
     "data": {
      "image/png": "[encoded data removed]"
     },
     "metadata": {},
     "output_type": "display_data"
    }
   ],
   "source": [
    "theta = [2.,1.,2.,3.]\n",
    "\n",
    "dim=3\n",
    "theta = []\n",
    "for i in xrange(dim+1):\n",
    "    theta.append(sy.symbols(unichr(ord('A')+i)))\n",
    "    \n",
    "d_s = 2 #derivative order support\n",
    "x1=[]\n",
    "x2=[]\n",
    "s_c=0\n",
    "\n",
    "for i in xrange(dim):\n",
    "    x1.append(sy.symbols(unichr(ord('a')+s_c/26)+unichr(ord('a')+s_c%26)))\n",
    "    s_c+=1\n",
    "    x2.append(sy.symbols(unichr(ord('a')+s_c/26)+unichr(ord('a')+s_c%26)))\n",
    "    s_c+=1\n",
    "\n",
    "alpha=sy.symbols('alpha')\n",
    "alpha=0\n",
    "for i in xrange(dim):\n",
    "    alpha=alpha+theta[i+1]*(x1[i]-x2[i])**2\n",
    "\n",
    "beta = theta[0]*sy.exp(-alpha)\n",
    "print beta\n",
    "dbeta = beta.diff(x1[0])\n",
    "print dbeta\n",
    "print sy.simplify(dbeta/beta)\n",
    "f = sy.lambdify(x1+x2+theta,beta,'numpy')\n",
    "f1 = sy.lambdify(x1+x2+theta,dbeta,'numpy')\n",
    "print f\n",
    "f(1,2,3,1,2,3,2,1,2,3)"
   ]
  },
  {
   "cell_type": "code",
   "execution_count": 3,
   "metadata": {
    "collapsed": false
   },
   "outputs": [
    {
     "name": "stdout",
     "output_type": "stream",
     "text": [
      "[A*exp(-B*(aa - ab)**2 - C*(ac - ad)**2 - D*(ae - af)**2), [(), ()]]\n",
      "[-2*A*B*(aa - ab)*exp(-B*(aa - ab)**2 - C*(ac - ad)**2 - D*(ae - af)**2), [(0,), ()]]\n",
      "[-2*A*C*(ac - ad)*exp(-B*(aa - ab)**2 - C*(ac - ad)**2 - D*(ae - af)**2), [(1,), ()]]\n",
      "[-2*A*D*(ae - af)*exp(-B*(aa - ab)**2 - C*(ac - ad)**2 - D*(ae - af)**2), [(2,), ()]]\n",
      "[(), ()]\n",
      "[(), (0,)]\n",
      "[(), (1,)]\n",
      "[(), (2,)]\n",
      "[(0,), ()]\n",
      "[(0,), (0,)]\n",
      "[(0,), (1,)]\n",
      "[(0,), (2,)]\n",
      "[(1,), ()]\n",
      "[(1,), (0,)]\n",
      "[(1,), (1,)]\n",
      "[(1,), (2,)]\n",
      "[(2,), ()]\n",
      "[(2,), (0,)]\n",
      "[(2,), (1,)]\n",
      "[(2,), (2,)]\n",
      "[(0, 0), ()]\n",
      "[(0, 0), (0,)]\n",
      "[(0, 0), (1,)]\n",
      "[(0, 0), (2,)]\n",
      "[(0, 1), ()]\n",
      "[(0, 1), (0,)]\n",
      "[(0, 1), (1,)]\n",
      "[(0, 1), (2,)]\n",
      "[(0, 2), ()]\n",
      "[(0, 2), (0,)]\n",
      "[(0, 2), (1,)]\n",
      "[(0, 2), (2,)]\n",
      "[(1, 1), ()]\n",
      "[(1, 1), (0,)]\n",
      "[(1, 1), (1,)]\n",
      "[(1, 1), (2,)]\n",
      "[(1, 2), ()]\n",
      "[(1, 2), (0,)]\n",
      "[(1, 2), (1,)]\n",
      "[(1, 2), (2,)]\n",
      "[(2, 2), ()]\n",
      "[(2, 2), (0,)]\n",
      "[(2, 2), (1,)]\n",
      "[(2, 2), (2,)]\n"
     ]
    }
   ],
   "source": [
    "range(d_s)\n",
    "Dlist=[[beta,[tuple(),tuple()]]]\n",
    "setlist1=set()\n",
    "live=[0,1]\n",
    "for i in xrange(d_s):\n",
    "    \n",
    "    for Dcurrent in Dlist[live[0]:live[1]]:\n",
    "        print Dcurrent\n",
    "        for j in xrange(dim):\n",
    "            key = tuple(sorted(Dcurrent[1][0] + (j,)))\n",
    "            if not key in setlist1:\n",
    "                Dlist +=  [[sy.simplify(Dcurrent[0].diff(x1[j])), [key,Dcurrent[1][1]]]]\n",
    "                setlist1.add(key)\n",
    "        live[0]=live[1]\n",
    "        live[1]=len(Dlist)\n",
    "scope=[0,len(Dlist)]\n",
    "for DX in Dlist[:]:\n",
    "    DX=[DX]\n",
    "    live = [0,1]\n",
    "    setlist2=set() \n",
    "    for i in xrange(d_s):\n",
    "        for Dcurrent in DX[live[0]:live[1]]:\n",
    "            print Dcurrent[1]\n",
    "            for j in xrange(dim):\n",
    "                key = tuple(sorted(Dcurrent[1][1] + (j,)))\n",
    "                if not key in setlist2:\n",
    "                    DX +=  [[sy.simplify(Dcurrent[0].diff(x2[j])), [Dcurrent[1][0],key]]]\n",
    "                    setlist2.add(key)\n",
    "            live[0]=live[1]\n",
    "            live[1]=len(DX)\n",
    "    Dlist+=DX"
   ]
  },
  {
   "cell_type": "code",
   "execution_count": 4,
   "metadata": {
    "collapsed": false
   },
   "outputs": [
    {
     "data": {
      "text/plain": [
       "{((), ()): <function numpy.<lambda>>,\n",
       " ((), (0,)): <function numpy.<lambda>>,\n",
       " ((), (0, 0)): <function numpy.<lambda>>,\n",
       " ((), (0, 1)): <function numpy.<lambda>>,\n",
       " ((), (0, 2)): <function numpy.<lambda>>,\n",
       " ((), (1,)): <function numpy.<lambda>>,\n",
       " ((), (1, 1)): <function numpy.<lambda>>,\n",
       " ((), (1, 2)): <function numpy.<lambda>>,\n",
       " ((), (2,)): <function numpy.<lambda>>,\n",
       " ((), (2, 2)): <function numpy.<lambda>>,\n",
       " ((0,), ()): <function numpy.<lambda>>,\n",
       " ((0,), (0,)): <function numpy.<lambda>>,\n",
       " ((0,), (0, 0)): <function numpy.<lambda>>,\n",
       " ((0,), (0, 1)): <function numpy.<lambda>>,\n",
       " ((0,), (0, 2)): <function numpy.<lambda>>,\n",
       " ((0,), (1,)): <function numpy.<lambda>>,\n",
       " ((0,), (1, 1)): <function numpy.<lambda>>,\n",
       " ((0,), (1, 2)): <function numpy.<lambda>>,\n",
       " ((0,), (2,)): <function numpy.<lambda>>,\n",
       " ((0,), (2, 2)): <function numpy.<lambda>>,\n",
       " ((0, 0), ()): <function numpy.<lambda>>,\n",
       " ((0, 0), (0,)): <function numpy.<lambda>>,\n",
       " ((0, 0), (0, 0)): <function numpy.<lambda>>,\n",
       " ((0, 0), (0, 1)): <function numpy.<lambda>>,\n",
       " ((0, 0), (0, 2)): <function numpy.<lambda>>,\n",
       " ((0, 0), (1,)): <function numpy.<lambda>>,\n",
       " ((0, 0), (1, 1)): <function numpy.<lambda>>,\n",
       " ((0, 0), (1, 2)): <function numpy.<lambda>>,\n",
       " ((0, 0), (2,)): <function numpy.<lambda>>,\n",
       " ((0, 0), (2, 2)): <function numpy.<lambda>>,\n",
       " ((0, 1), ()): <function numpy.<lambda>>,\n",
       " ((0, 1), (0,)): <function numpy.<lambda>>,\n",
       " ((0, 1), (0, 0)): <function numpy.<lambda>>,\n",
       " ((0, 1), (0, 1)): <function numpy.<lambda>>,\n",
       " ((0, 1), (0, 2)): <function numpy.<lambda>>,\n",
       " ((0, 1), (1,)): <function numpy.<lambda>>,\n",
       " ((0, 1), (1, 1)): <function numpy.<lambda>>,\n",
       " ((0, 1), (1, 2)): <function numpy.<lambda>>,\n",
       " ((0, 1), (2,)): <function numpy.<lambda>>,\n",
       " ((0, 1), (2, 2)): <function numpy.<lambda>>,\n",
       " ((0, 2), ()): <function numpy.<lambda>>,\n",
       " ((0, 2), (0,)): <function numpy.<lambda>>,\n",
       " ((0, 2), (0, 0)): <function numpy.<lambda>>,\n",
       " ((0, 2), (0, 1)): <function numpy.<lambda>>,\n",
       " ((0, 2), (0, 2)): <function numpy.<lambda>>,\n",
       " ((0, 2), (1,)): <function numpy.<lambda>>,\n",
       " ((0, 2), (1, 1)): <function numpy.<lambda>>,\n",
       " ((0, 2), (1, 2)): <function numpy.<lambda>>,\n",
       " ((0, 2), (2,)): <function numpy.<lambda>>,\n",
       " ((0, 2), (2, 2)): <function numpy.<lambda>>,\n",
       " ((1,), ()): <function numpy.<lambda>>,\n",
       " ((1,), (0,)): <function numpy.<lambda>>,\n",
       " ((1,), (0, 0)): <function numpy.<lambda>>,\n",
       " ((1,), (0, 1)): <function numpy.<lambda>>,\n",
       " ((1,), (0, 2)): <function numpy.<lambda>>,\n",
       " ((1,), (1,)): <function numpy.<lambda>>,\n",
       " ((1,), (1, 1)): <function numpy.<lambda>>,\n",
       " ((1,), (1, 2)): <function numpy.<lambda>>,\n",
       " ((1,), (2,)): <function numpy.<lambda>>,\n",
       " ((1,), (2, 2)): <function numpy.<lambda>>,\n",
       " ((1, 1), ()): <function numpy.<lambda>>,\n",
       " ((1, 1), (0,)): <function numpy.<lambda>>,\n",
       " ((1, 1), (0, 0)): <function numpy.<lambda>>,\n",
       " ((1, 1), (0, 1)): <function numpy.<lambda>>,\n",
       " ((1, 1), (0, 2)): <function numpy.<lambda>>,\n",
       " ((1, 1), (1,)): <function numpy.<lambda>>,\n",
       " ((1, 1), (1, 1)): <function numpy.<lambda>>,\n",
       " ((1, 1), (1, 2)): <function numpy.<lambda>>,\n",
       " ((1, 1), (2,)): <function numpy.<lambda>>,\n",
       " ((1, 1), (2, 2)): <function numpy.<lambda>>,\n",
       " ((1, 2), ()): <function numpy.<lambda>>,\n",
       " ((1, 2), (0,)): <function numpy.<lambda>>,\n",
       " ((1, 2), (0, 0)): <function numpy.<lambda>>,\n",
       " ((1, 2), (0, 1)): <function numpy.<lambda>>,\n",
       " ((1, 2), (0, 2)): <function numpy.<lambda>>,\n",
       " ((1, 2), (1,)): <function numpy.<lambda>>,\n",
       " ((1, 2), (1, 1)): <function numpy.<lambda>>,\n",
       " ((1, 2), (1, 2)): <function numpy.<lambda>>,\n",
       " ((1, 2), (2,)): <function numpy.<lambda>>,\n",
       " ((1, 2), (2, 2)): <function numpy.<lambda>>,\n",
       " ((2,), ()): <function numpy.<lambda>>,\n",
       " ((2,), (0,)): <function numpy.<lambda>>,\n",
       " ((2,), (0, 0)): <function numpy.<lambda>>,\n",
       " ((2,), (0, 1)): <function numpy.<lambda>>,\n",
       " ((2,), (0, 2)): <function numpy.<lambda>>,\n",
       " ((2,), (1,)): <function numpy.<lambda>>,\n",
       " ((2,), (1, 1)): <function numpy.<lambda>>,\n",
       " ((2,), (1, 2)): <function numpy.<lambda>>,\n",
       " ((2,), (2,)): <function numpy.<lambda>>,\n",
       " ((2,), (2, 2)): <function numpy.<lambda>>,\n",
       " ((2, 2), ()): <function numpy.<lambda>>,\n",
       " ((2, 2), (0,)): <function numpy.<lambda>>,\n",
       " ((2, 2), (0, 0)): <function numpy.<lambda>>,\n",
       " ((2, 2), (0, 1)): <function numpy.<lambda>>,\n",
       " ((2, 2), (0, 2)): <function numpy.<lambda>>,\n",
       " ((2, 2), (1,)): <function numpy.<lambda>>,\n",
       " ((2, 2), (1, 1)): <function numpy.<lambda>>,\n",
       " ((2, 2), (1, 2)): <function numpy.<lambda>>,\n",
       " ((2, 2), (2,)): <function numpy.<lambda>>,\n",
       " ((2, 2), (2, 2)): <function numpy.<lambda>>}"
      ]
     },
     "execution_count": 4,
     "metadata": {},
     "output_type": "execute_result"
    }
   ],
   "source": [
    "DC = dict()\n",
    "for i in Dlist:\n",
    "    DC[tuple(i[1])]=sy.lambdify(x1+x2+theta, i[0], 'numpy')\n",
    "DC"
   ]
  },
  {
   "cell_type": "code",
   "execution_count": 6,
   "metadata": {
    "collapsed": false
   },
   "outputs": [
    {
     "name": "stdout",
     "output_type": "stream",
     "text": [
      "ERROR! Session/line number was not unique in database. History logging moved to new session 138\n",
      "Traceback (most recent call last):\n",
      "  File \"/usr/local/lib/python2.7/dist-packages/IPython/core/ultratb.py\", line 970, in get_records\n",
      "    return _fixed_getinnerframes(etb, number_of_lines_of_context, tb_offset)\n",
      "  File \"/usr/local/lib/python2.7/dist-packages/IPython/core/ultratb.py\", line 233, in wrapped\n",
      "    return f(*args, **kwargs)\n",
      "  File \"/usr/local/lib/python2.7/dist-packages/IPython/core/ultratb.py\", line 267, in _fixed_getinnerframes\n",
      "    records = fix_frame_records_filenames(inspect.getinnerframes(etb, context))\n",
      "  File \"/usr/lib/python2.7/inspect.py\", line 1044, in getinnerframes\n",
      "    framelist.append((tb.tb_frame,) + getframeinfo(tb, context))\n",
      "  File \"/usr/lib/python2.7/inspect.py\", line 1008, in getframeinfo\n",
      "    lines, lnum = findsource(frame)\n",
      "  File \"/usr/local/lib/python2.7/dist-packages/IPython/core/ultratb.py\", line 216, in findsource\n",
      "    lnum = min(object.co_firstlineno, len(lines)) - 1\n",
      "  File \"/usr/local/lib/python2.7/dist-packages/numpy/core/fromnumeric.py\", line 2219, in amin\n",
      "    out=out, keepdims=keepdims)\n",
      "  File \"/usr/local/lib/python2.7/dist-packages/numpy/core/_methods.py\", line 29, in _amin\n",
      "    return umr_minimum(a, axis, None, out, keepdims)\n",
      "ValueError: 'axis' entry is out of bounds\n",
      "Traceback (most recent call last):\n",
      "  File \"/usr/local/lib/python2.7/dist-packages/IPython/core/ultratb.py\", line 970, in get_records\n",
      "    return _fixed_getinnerframes(etb, number_of_lines_of_context, tb_offset)\n",
      "  File \"/usr/local/lib/python2.7/dist-packages/IPython/core/ultratb.py\", line 233, in wrapped\n",
      "    return f(*args, **kwargs)\n",
      "  File \"/usr/local/lib/python2.7/dist-packages/IPython/core/ultratb.py\", line 267, in _fixed_getinnerframes\n",
      "    records = fix_frame_records_filenames(inspect.getinnerframes(etb, context))\n",
      "  File \"/usr/lib/python2.7/inspect.py\", line 1044, in getinnerframes\n",
      "    framelist.append((tb.tb_frame,) + getframeinfo(tb, context))\n",
      "  File \"/usr/lib/python2.7/inspect.py\", line 1008, in getframeinfo\n",
      "    lines, lnum = findsource(frame)\n",
      "  File \"/usr/local/lib/python2.7/dist-packages/IPython/core/ultratb.py\", line 216, in findsource\n",
      "    lnum = min(object.co_firstlineno, len(lines)) - 1\n",
      "  File \"/usr/local/lib/python2.7/dist-packages/numpy/core/fromnumeric.py\", line 2219, in amin\n",
      "    out=out, keepdims=keepdims)\n",
      "  File \"/usr/local/lib/python2.7/dist-packages/numpy/core/_methods.py\", line 29, in _amin\n",
      "    return umr_minimum(a, axis, None, out, keepdims)\n",
      "ValueError: 'axis' entry is out of bounds\n"
     ]
    },
    {
     "name": "stderr",
     "output_type": "stream",
     "text": [
      "ERROR: Internal Python error in the inspect module.\n",
      "Below is the traceback from this internal error.\n",
      "\n",
      "\n",
      "Unfortunately, your original traceback can not be constructed.\n",
      "\n",
      "ERROR: Internal Python error in the inspect module.\n",
      "Below is the traceback from this internal error.\n",
      "\n",
      "\n",
      "Unfortunately, your original traceback can not be constructed.\n",
      "\n"
     ]
    },
    {
     "ename": "TypeError",
     "evalue": "'NoneType' object is not iterable",
     "output_type": "error",
     "traceback": [
      "Traceback (most recent call last):\n",
      "  File \"/usr/local/lib/python2.7/dist-packages/IPython/kernel/zmq/ipkernel.py\", line 181, in do_execute\n    shell.run_cell(code, store_history=store_history, silent=silent)\n",
      "  File \"/usr/local/lib/python2.7/dist-packages/IPython/core/interactiveshell.py\", line 2871, in run_cell\n    interactivity=interactivity, compiler=compiler, result=result)\n",
      "  File \"/usr/local/lib/python2.7/dist-packages/IPython/core/interactiveshell.py\", line 3000, in run_ast_nodes\n    self.showtraceback()\n",
      "  File \"/usr/local/lib/python2.7/dist-packages/IPython/core/interactiveshell.py\", line 1851, in showtraceback\n    value, tb, tb_offset=tb_offset)\n",
      "  File \"/usr/local/lib/python2.7/dist-packages/IPython/core/ultratb.py\", line 1240, in structured_traceback\n    self, etype, value, tb, tb_offset, number_of_lines_of_context)\n",
      "  File \"/usr/local/lib/python2.7/dist-packages/IPython/core/ultratb.py\", line 1148, in structured_traceback\n    self, etype, value, tb, tb_offset, number_of_lines_of_context\n",
      "  File \"/usr/local/lib/python2.7/dist-packages/IPython/core/ultratb.py\", line 1000, in structured_traceback\n    tb_offset)\n",
      "  File \"/usr/local/lib/python2.7/dist-packages/IPython/core/ultratb.py\", line 951, in format_exception_as_a_whole\n    frames = self.format_records(records)\n",
      "  File \"/usr/local/lib/python2.7/dist-packages/IPython/core/ultratb.py\", line 724, in format_records\n    for frame, file, lnum, func, lines, index in records:\n",
      "TypeError: 'NoneType' object is not iterable\n"
     ]
    }
   ],
   "source": [
    "import dill as pickle\n",
    "i,j= sy.symbols('i j')\n",
    "h = i+j\n",
    "f = sy.lambdify((i,j,),h,'numpy')\n",
    "print f(1,2)\n",
    "print pickle.settings\n",
    "#{'recurse': False, 'byref': False, 'protocol': 2, 'fmode': \n",
    "pickle.settings['recurse'] = True\n",
    "\n",
    "#s=pickle.dump(f)\n",
    "#g=pickle.loads(s)\n",
    "#print g(3,4)"
   ]
  },
  {
   "cell_type": "code",
   "execution_count": 6,
   "metadata": {
    "collapsed": false
   },
   "outputs": [
    {
     "name": "stdout",
     "output_type": "stream",
     "text": [
      "ERROR! Session/line number was not unique in database. History logging moved to new session 137\n",
      "Traceback (most recent call last):\n",
      "  File \"/usr/local/lib/python2.7/dist-packages/IPython/core/ultratb.py\", line 970, in get_records\n",
      "    return _fixed_getinnerframes(etb, number_of_lines_of_context, tb_offset)\n",
      "  File \"/usr/local/lib/python2.7/dist-packages/IPython/core/ultratb.py\", line 233, in wrapped\n",
      "    return f(*args, **kwargs)\n",
      "  File \"/usr/local/lib/python2.7/dist-packages/IPython/core/ultratb.py\", line 267, in _fixed_getinnerframes\n",
      "    records = fix_frame_records_filenames(inspect.getinnerframes(etb, context))\n",
      "  File \"/usr/lib/python2.7/inspect.py\", line 1044, in getinnerframes\n",
      "    framelist.append((tb.tb_frame,) + getframeinfo(tb, context))\n",
      "  File \"/usr/lib/python2.7/inspect.py\", line 1008, in getframeinfo\n",
      "    lines, lnum = findsource(frame)\n",
      "  File \"/usr/local/lib/python2.7/dist-packages/IPython/core/ultratb.py\", line 216, in findsource\n",
      "    lnum = min(object.co_firstlineno, len(lines)) - 1\n",
      "  File \"/usr/local/lib/python2.7/dist-packages/numpy/core/fromnumeric.py\", line 2219, in amin\n",
      "    out=out, keepdims=keepdims)\n",
      "  File \"/usr/local/lib/python2.7/dist-packages/numpy/core/_methods.py\", line 29, in _amin\n",
      "    return umr_minimum(a, axis, None, out, keepdims)\n",
      "ValueError: 'axis' entry is out of bounds\n",
      "Traceback (most recent call last):\n",
      "  File \"/usr/local/lib/python2.7/dist-packages/IPython/core/ultratb.py\", line 970, in get_records\n",
      "    return _fixed_getinnerframes(etb, number_of_lines_of_context, tb_offset)\n",
      "  File \"/usr/local/lib/python2.7/dist-packages/IPython/core/ultratb.py\", line 233, in wrapped\n",
      "    return f(*args, **kwargs)\n",
      "  File \"/usr/local/lib/python2.7/dist-packages/IPython/core/ultratb.py\", line 267, in _fixed_getinnerframes\n",
      "    records = fix_frame_records_filenames(inspect.getinnerframes(etb, context))\n",
      "  File \"/usr/lib/python2.7/inspect.py\", line 1044, in getinnerframes\n",
      "    framelist.append((tb.tb_frame,) + getframeinfo(tb, context))\n",
      "  File \"/usr/lib/python2.7/inspect.py\", line 1008, in getframeinfo\n",
      "    lines, lnum = findsource(frame)\n",
      "  File \"/usr/local/lib/python2.7/dist-packages/IPython/core/ultratb.py\", line 216, in findsource\n",
      "    lnum = min(object.co_firstlineno, len(lines)) - 1\n",
      "  File \"/usr/local/lib/python2.7/dist-packages/numpy/core/fromnumeric.py\", line 2219, in amin\n",
      "    out=out, keepdims=keepdims)\n",
      "  File \"/usr/local/lib/python2.7/dist-packages/numpy/core/_methods.py\", line 29, in _amin\n",
      "    return umr_minimum(a, axis, None, out, keepdims)\n",
      "ValueError: 'axis' entry is out of bounds\n"
     ]
    },
    {
     "name": "stderr",
     "output_type": "stream",
     "text": [
      "ERROR: Internal Python error in the inspect module.\n",
      "Below is the traceback from this internal error.\n",
      "\n",
      "\n",
      "Unfortunately, your original traceback can not be constructed.\n",
      "\n",
      "ERROR: Internal Python error in the inspect module.\n",
      "Below is the traceback from this internal error.\n",
      "\n",
      "\n",
      "Unfortunately, your original traceback can not be constructed.\n",
      "\n"
     ]
    },
    {
     "ename": "TypeError",
     "evalue": "'NoneType' object is not iterable",
     "output_type": "error",
     "traceback": [
      "Traceback (most recent call last):\n",
      "  File \"/usr/local/lib/python2.7/dist-packages/IPython/kernel/zmq/ipkernel.py\", line 181, in do_execute\n    shell.run_cell(code, store_history=store_history, silent=silent)\n",
      "  File \"/usr/local/lib/python2.7/dist-packages/IPython/core/interactiveshell.py\", line 2871, in run_cell\n    interactivity=interactivity, compiler=compiler, result=result)\n",
      "  File \"/usr/local/lib/python2.7/dist-packages/IPython/core/interactiveshell.py\", line 3000, in run_ast_nodes\n    self.showtraceback()\n",
      "  File \"/usr/local/lib/python2.7/dist-packages/IPython/core/interactiveshell.py\", line 1851, in showtraceback\n    value, tb, tb_offset=tb_offset)\n",
      "  File \"/usr/local/lib/python2.7/dist-packages/IPython/core/ultratb.py\", line 1240, in structured_traceback\n    self, etype, value, tb, tb_offset, number_of_lines_of_context)\n",
      "  File \"/usr/local/lib/python2.7/dist-packages/IPython/core/ultratb.py\", line 1148, in structured_traceback\n    self, etype, value, tb, tb_offset, number_of_lines_of_context\n",
      "  File \"/usr/local/lib/python2.7/dist-packages/IPython/core/ultratb.py\", line 1000, in structured_traceback\n    tb_offset)\n",
      "  File \"/usr/local/lib/python2.7/dist-packages/IPython/core/ultratb.py\", line 951, in format_exception_as_a_whole\n    frames = self.format_records(records)\n",
      "  File \"/usr/local/lib/python2.7/dist-packages/IPython/core/ultratb.py\", line 724, in format_records\n    for frame, file, lnum, func, lines, index in records:\n",
      "TypeError: 'NoneType' object is not iterable\n"
     ]
    }
   ],
   "source": [
    "import dill as pickle\n",
    "i,j= sy.symbols('i j')\n",
    "h = i+j\n",
    "f = sy.lambdify((i,j,),h,'numpy')\n",
    "print f(1,2)\n",
    "print pickle.settings\n",
    "#{'recurse': False, 'byref': False, 'protocol': 2, 'fmode': \n",
    "pickle.settings['recurse'] = True\n",
    "\n",
    "#s=pickle.dump(f)\n",
    "#g=pickle.loads(s)\n",
    "#print g(3,4)"
   ]
  },
  {
   "cell_type": "code",
   "execution_count": null,
   "metadata": {
    "collapsed": true
   },
   "outputs": [],
   "source": []
  },
  {
   "cell_type": "code",
   "execution_count": null,
   "metadata": {
    "collapsed": true
   },
   "outputs": [],
   "source": []
  },
  {
   "cell_type": "code",
   "execution_count": null,
   "metadata": {
    "collapsed": true
   },
   "outputs": [],
   "source": []
  },
  {
   "cell_type": "code",
   "execution_count": null,
   "metadata": {
    "collapsed": true
   },
   "outputs": [],
   "source": []
  },
  {
   "cell_type": "code",
   "execution_count": null,
   "metadata": {
    "collapsed": true
   },
   "outputs": [],
   "source": []
  },
  {
   "cell_type": "code",
   "execution_count": null,
   "metadata": {
    "collapsed": true
   },
   "outputs": [],
   "source": []
  }
 ],
 "metadata": {
  "kernelspec": {
   "display_name": "Python 2",
   "language": "python",
   "name": "python2"
  },
  "language_info": {
   "codemirror_mode": {
    "name": "ipython",
    "version": 2
   },
   "file_extension": ".py",
   "mimetype": "text/x-python",
   "name": "python",
   "nbconvert_exporter": "python",
   "pygments_lexer": "ipython2",
   "version": "2.7.6"
  }
 },
 "nbformat": 4,
 "nbformat_minor": 0
}
