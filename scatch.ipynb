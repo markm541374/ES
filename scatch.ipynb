{
 "metadata": {
  "name": ""
 },
 "nbformat": 3,
 "nbformat_minor": 0,
 "worksheets": [
  {
   "cells": [
    {
     "cell_type": "code",
     "collapsed": false,
     "input": [
      "import scipy as sp"
     ],
     "language": "python",
     "metadata": {},
     "outputs": [],
     "prompt_number": 2
    },
    {
     "cell_type": "code",
     "collapsed": false,
     "input": [
      "D1=[sp.NaN]\n",
      "D2=[0]\n",
      "D3=[3,1]\n",
      "D4=[3,2,2]\n",
      "D5=[0,3]"
     ],
     "language": "python",
     "metadata": {},
     "outputs": [],
     "prompt_number": 3
    },
    {
     "cell_type": "code",
     "collapsed": false,
     "input": [
      "def foo(x1,x2,d1,d2,L):\n",
      "    #d0 is the all the derivitive directions unsorted, then sorted\n",
      "    d0=[]\n",
      "    for i in d1+d2:\n",
      "        \n",
      "        if not sp.isnan(i):\n",
      "            d0.append(i)\n",
      "            \n",
      "    if len(d0)==0:\n",
      "        print \"basic kernel\"\n",
      "        return\n",
      "    if len(d0)==1:\n",
      "        print \"1st derivative\"\n",
      "        return\n",
      "    #print d0\n",
      "    d0.sort()\n",
      "    #print d0\n",
      "    im=d0[0]\n",
      "    #d1 is a list of lists witht each sublist for  derivative direction\n",
      "    d1=[[im]]\n",
      "    j=0\n",
      "    for i in d0[1:]:\n",
      "        if i==im:\n",
      "            d1[j].append(i)\n",
      "            im=i\n",
      "        else:\n",
      "            d1.append([i])\n",
      "            j+=1\n",
      "            im=i\n",
      "    #print d1\n",
      "    #d2 is the number of repeated derivatives in each direction\n",
      "    d2=[]\n",
      "    for i in d1:\n",
      "        d2.append(len(i))\n",
      "    #print d2\n",
      "    #d3 is the delta x for each direction\n",
      "    d3=[]\n",
      "    #d4 is the lengthscale in each direction\n",
      "    d4=[]\n",
      "    for i in d1:\n",
      "        d3.append((x2[i[0],0]-x1[i[0]])[0,0])\n",
      "        d4.append(L[i[0]])\n",
      "        \n",
      "    \n",
      "\n",
      "    \n",
      "    \n",
      "    d3=[x for (y,x) in sorted(zip(d2,d3))]\n",
      "    d4=[x for (y,x) in sorted(zip(d2,d4))]\n",
      "    d2.sort()\n",
      "\n",
      "    print \"xxxxxxxxxxxx\"\n",
      "    print d2\n",
      "    print d3\n",
      "    print d4\n",
      "    \n",
      "    \n",
      "    if d2==[1,1]:\n",
      "        print \"2nd derivative i!=j\"\n",
      "    elif d2==[2]:\n",
      "        print \"2nd derivative i==j\"\n",
      "    elif d2==[1,1,1]:\n",
      "        print \"3nd derivative i!=j!=k\"\n",
      "    elif d2==[1,2]:\n",
      "        print \"3nd derivative i!=j==k\"\n",
      "    elif d2==[3]:\n",
      "        print \"3nd derivative i==j==k\"\n",
      "    elif d2==[1,1,1,1]:\n",
      "        print \"4th derivative i!=j!=k!=l\"\n",
      "    elif d2==[1,1,2]:\n",
      "        print \"4th derivative i!=j!=k==l\"\n",
      "    elif d2==[1,3]:\n",
      "        print \"4th derivative i!=j==k==l\"\n",
      "    elif d2==[2,2]:\n",
      "        print \"4th derivative i==j!=k==l\"\n",
      "    elif d2==[4]:\n",
      "        print \"4th derivative i==j==k==l\"\n",
      "    else:\n",
      "        print d2\n",
      "        raise ValueError(\"derivative combination not suported\")\n",
      "    \n",
      "    \n",
      "foo(sp.matrix([[0.,0.,0.,0.]]).T,sp.matrix([[1.,2.,3.,4.]]).T,[2,3],[1,2],[0.1,0.2,0.3,0.4])\n",
      "foo(sp.matrix([[0.,0.,0.,0.]]).T,sp.matrix([[1.,2.,3.,4.]]).T,[1],[sp.NaN],[0.1,0.2,0.3,0.4])"
     ],
     "language": "python",
     "metadata": {},
     "outputs": [
      {
       "output_type": "stream",
       "stream": "stdout",
       "text": [
        "xxxxxxxxxxxx\n",
        "[1, 1, 2]\n",
        "[2.0, 4.0, 3.0]\n",
        "[0.2, 0.4, 0.3]\n",
        "4th derivative i!=j!=k==l\n",
        "1st derivative\n"
       ]
      }
     ],
     "prompt_number": 33
    },
    {
     "cell_type": "code",
     "collapsed": false,
     "input": [],
     "language": "python",
     "metadata": {},
     "outputs": [],
     "prompt_number": 9
    },
    {
     "cell_type": "code",
     "collapsed": false,
     "input": [],
     "language": "python",
     "metadata": {},
     "outputs": [],
     "prompt_number": 16
    },
    {
     "cell_type": "code",
     "collapsed": false,
     "input": [],
     "language": "python",
     "metadata": {},
     "outputs": []
    }
   ],
   "metadata": {}
  }
 ]
}