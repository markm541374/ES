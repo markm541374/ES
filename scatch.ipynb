{
 "metadata": {
  "name": ""
 },
 "nbformat": 3,
 "nbformat_minor": 0,
 "worksheets": [
  {
   "cells": [
    {
     "cell_type": "code",
     "collapsed": false,
     "input": [
      "import scipy as sp\n",
      "from functools import partial\n",
      "from matplotlib import pyplot as plt\n",
      "%matplotlib inline"
     ],
     "language": "python",
     "metadata": {},
     "outputs": [],
     "prompt_number": 2
    },
    {
     "cell_type": "code",
     "collapsed": false,
     "input": [
      "D1=[sp.NaN]\n",
      "D2=[0]\n",
      "D3=[3,1]\n",
      "D4=[3,2,2]\n",
      "D5=[0,3]"
     ],
     "language": "python",
     "metadata": {},
     "outputs": [],
     "prompt_number": 3
    },
    {
     "cell_type": "code",
     "collapsed": false,
     "input": [
      "def foo(theta,x1,x2,d1=[sp.NaN],d2=[sp.NaN]):\n",
      "    x1=sp.matrix(x1)\n",
      "    x2=sp.matrix(x2)\n",
      "    #print \"xxxxx\"\n",
      "    A=theta[0]\n",
      "    d=sp.matrix(theta[1:]).T\n",
      "    \n",
      "    N=sp.matrix(d).shape[0]\n",
      "    D=sp.eye(N)\n",
      "    for i in range(N):\n",
      "        D[i,i]=1./(d[i,0]**2)\n",
      "    X=x1-x2\n",
      "    core=(A*sp.exp(-0.5*(X)*D*(X).T))[0,0]\n",
      "    #print core\n",
      "    #d0 is the all the derivitive directions unsorted, then sorted\n",
      "    d0=[]\n",
      "   \n",
      "    n1=0\n",
      "    \n",
      "    n2=0\n",
      "    for i in d2:\n",
      "        if not sp.isnan(i):\n",
      "           # print 'x'+str(d2)\n",
      "            n2+=1\n",
      "    #print 'y'+str(n2)\n",
      "    sign=(-1)**(n2%2)\n",
      "    #print sign\n",
      "    for i in d1+d2:\n",
      "        \n",
      "        if not sp.isnan(i):\n",
      "            d0.append(i)\n",
      "            \n",
      "    if len(d0)==0:\n",
      "        #print \"basic kernel\"\n",
      "        #print core\n",
      "        return core\n",
      "    if len(d0)==1:\n",
      "        #print \"1st derivative\"\n",
      "        l=D[d0[0],d0[0]]\n",
      "        \n",
      "        #print dx\n",
      "        x=X[0,d0[0]]\n",
      "        coef = -l*x\n",
      "        #print core\n",
      "        return sign*coef*core\n",
      "    #print d0\n",
      "    d0.sort()\n",
      "    #print d0\n",
      "    im=d0[0]\n",
      "    #d1 is a list of lists witht each sublist for  derivative direction\n",
      "    d1=[[im]]\n",
      "    j=0\n",
      "    for i in d0[1:]:\n",
      "        if i==im:\n",
      "            d1[j].append(i)\n",
      "            im=i\n",
      "        else:\n",
      "            d1.append([i])\n",
      "            j+=1\n",
      "            im=i\n",
      "    #print d1\n",
      "    #d2 is the number of repeated derivatives in each direction\n",
      "    d2=[]\n",
      "    for i in d1:\n",
      "        d2.append(len(i))\n",
      "    #print d2\n",
      "    #d3 is the delta x for each direction\n",
      "    d3=[]\n",
      "    #d4 is the lengthscale in each direction\n",
      "    d4=[]\n",
      "    for i in d1:\n",
      "        d3.append((x2[0,i[0]]-x1[0,i[0]]))\n",
      "        d4.append(D[i[0],i[0]])\n",
      "        \n",
      "    \n",
      "\n",
      "    \n",
      "    \n",
      "    d3=[x for (y,x) in sorted(zip(d2,d3))]\n",
      "    d4=[x for (y,x) in sorted(zip(d2,d4))]\n",
      "    d2.sort()\n",
      "\n",
      "   \n",
      "    #print d2\n",
      "    #print d3\n",
      "    #print d4\n",
      "    \n",
      "    \n",
      "    if d2==[1,1]:\n",
      "        #print \"2nd derivative i!=j\"\n",
      "        ai=d1[0][0]\n",
      "        aj=d1[1][0]\n",
      "        \n",
      "        xi=X[0,ai]\n",
      "        xj=X[0,aj]\n",
      "        \n",
      "        li=D[ai,ai]\n",
      "        lj=D[aj,aj]\n",
      "        \n",
      "        coef=xi*li*xj*lj\n",
      "        return sign*coef*core\n",
      "        \n",
      "    elif d2==[2]:\n",
      "        #print \"2nd derivative i==j\"\n",
      "        ai=d1[0][0]\n",
      "        xi=X[0,ai]\n",
      "        li=D[ai,ai]\n",
      "        \n",
      "        coef = li*(li*xi**2-1)\n",
      "        return sign*coef*core\n",
      "        \n",
      "    elif d2==[1,1,1]:\n",
      "        print \"3nd derivative i!=j!=k\"\n",
      "    elif d2==[1,2]:\n",
      "        print \"3nd derivative i!=j==k\"\n",
      "    elif d2==[3]:\n",
      "        print \"3nd derivative i==j==k\"\n",
      "    elif d2==[1,1,1,1]:\n",
      "        print \"4th derivative i!=j!=k!=l\"\n",
      "    elif d2==[1,1,2]:\n",
      "        print \"4th derivative i!=j!=k==l\"\n",
      "    elif d2==[1,3]:\n",
      "        print \"4th derivative i!=j==k==l\"\n",
      "    elif d2==[2,2]:\n",
      "        print \"4th derivative i==j!=k==l\"\n",
      "    elif d2==[4]:\n",
      "        print \"4th derivative i==j==k==l\"\n",
      "    else:\n",
      "        print d2\n",
      "        raise ValueError(\"derivative combination not suported\")\n",
      "        \n",
      "    \n",
      "   \n",
      "    \n",
      "foo([2,0.1,0.2,0.3,0.4],sp.matrix([[0.,0.,0.,0.]]),sp.matrix([[0.01,0.02,0.03,0.04]]),[2,3],[1,2])\n",
      "foo([2,0.1,0.2,0.3,0.4],sp.matrix([[0.,0.,0.,0.]]),sp.matrix([[0.01,0.02,0.03,0.04]]),[1],[sp.NaN])"
     ],
     "language": "python",
     "metadata": {},
     "outputs": [
      {
       "output_type": "stream",
       "stream": "stdout",
       "text": [
        "4th derivative i!=j!=k==l\n",
        "[1, 2, 2, 3]\n",
        "[[1], [2, 2], [3]]\n",
        "[1, 1, 2]\n"
       ]
      },
      {
       "metadata": {},
       "output_type": "pyout",
       "prompt_number": 24,
       "text": [
        "0.98019867330675514"
       ]
      }
     ],
     "prompt_number": 24
    },
    {
     "cell_type": "code",
     "collapsed": false,
     "input": [
      "kf = partial(foo,[1.,0.3])\n"
     ],
     "language": "python",
     "metadata": {},
     "outputs": [],
     "prompt_number": 25
    },
    {
     "cell_type": "code",
     "collapsed": false,
     "input": [
      "c = []\n",
      "d = []\n",
      "e = []\n",
      "for i in sp.linspace(-1,1,100):\n",
      "    c.append(kf(i,0))\n",
      "    d.append(kf(i,0,d2=[0]))\n",
      "    e.append(kf(i,0,d1=[0],d2=[0]))\n",
      "plt.figure()\n",
      "plt.plot(c)\n",
      "plt.plot(d)\n",
      "plt.plot(e)\n"
     ],
     "language": "python",
     "metadata": {},
     "outputs": [
      {
       "metadata": {},
       "output_type": "pyout",
       "prompt_number": 26,
       "text": [
        "[<matplotlib.lines.Line2D at 0x7f638c423650>]"
       ]
      },
      {
       "metadata": {},
       "output_type": "display_data",
       "png": "[encoded data removed]",
       "text": [
        "<matplotlib.figure.Figure at 0x7f63ac4a9bd0>"
       ]
      }
     ],
     "prompt_number": 26
    },
    {
     "cell_type": "code",
     "collapsed": false,
     "input": [],
     "language": "python",
     "metadata": {},
     "outputs": [
      {
       "metadata": {},
       "output_type": "pyout",
       "prompt_number": 133,
       "text": [
        "[<matplotlib.lines.Line2D at 0x7f1350a00a90>]"
       ]
      },
      {
       "metadata": {},
       "output_type": "display_data",
       "png": "[encoded data removed]",
       "text": [
        "<matplotlib.figure.Figure at 0x7f1350998710>"
       ]
      }
     ],
     "prompt_number": 133
    },
    {
     "cell_type": "code",
     "collapsed": false,
     "input": [],
     "language": "python",
     "metadata": {},
     "outputs": []
    }
   ],
   "metadata": {}
  }
 ]
}