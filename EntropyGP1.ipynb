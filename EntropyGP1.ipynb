{
 "metadata": {
  "name": ""
 },
 "nbformat": 3,
 "nbformat_minor": 0,
 "worksheets": [
  {
   "cells": [
    {
     "cell_type": "raw",
     "metadata": {},
     "source": [
      "I want to use the variable bin isze histogram to get a bit faster"
     ]
    },
    {
     "cell_type": "code",
     "collapsed": false,
     "input": [
      "#standard library imports and some useful functions\n",
      "\n",
      "import scipy as sp\n",
      "from scipy import linalg as spl\n",
      "from matplotlib import pyplot as plt\n",
      "import time\n",
      "%matplotlib inline\n",
      "\n",
      "#sqexp kernel generator\n",
      "def gen_sqexp_k(theta):\n",
      "\tA=theta[0]\n",
      "\td=sp.matrix(theta[1:]).T\n",
      "\t\n",
      "\tN=sp.matrix(d).shape[0]\n",
      "\tD=sp.eye(N)\n",
      "\tfor i in range(N):\n",
      "\t\tD[i,i]=1./(d[i,0]**2)\n",
      "\treturn lambda x,y:A*sp.exp(-0.5*(x-y)*D*(x-y).T)\n",
      "\n",
      "#k builder for asymettric k\n",
      "def buildKasym(kf,x1,x2):\n",
      "        #x should be column vectors, returns a matrix with x1 rows, x2 columns\n",
      "        (l1,_)=x1.shape\n",
      "        (l2,_)=x2.shape\n",
      "        K=sp.matrix(sp.empty([l1,l2]))\n",
      "        for i in range(l1):\n",
      "            for j in range(l2):\n",
      "                K[i,j]=kf(x1[i,:],x2[j,:])\n",
      "                \n",
      "        return K\n",
      "\n",
      "# builder for symmetric k. 10**-10 is added tot eh diagonal for numerical stabulity\n",
      "def buildKsym(kf,x):\n",
      "        #x should be  column vector\n",
      "        (l,_)=x.shape\n",
      "        K=sp.matrix(sp.empty([l,l]))\n",
      "        for i in range(l):\n",
      "            K[i,i]=kf(x[i,:],x[i,:])+10**-10\n",
      "            for j in range(i+1,l):\n",
      "                K[i,j]=kf(x[i,:],x[j,:])\n",
      "                \n",
      "                K[j,i]=K[i,j]\n",
      "                \n",
      "        return K\n",
      "    \n",
      "#given a 1d input return a matrix with the input on the diagonal\n",
      "def vec2trace(v):\n",
      "    (l,_) = v.shape\n",
      "    M = sp.eye(l)\n",
      "    for i in range(l):\n",
      "        M[i,i]=v[i]\n",
      "    return M\n",
      "\n",
      "# return xlogx but return zero for x=0 instead of raising a log0 error\n",
      "def xlx0(x):\n",
      "    if x==0:\n",
      "        return 0\n",
      "    else:\n",
      "        return x*sp.log(x)\n",
      "    \n",
      "class GPcore:\n",
      "    def __init__(self,X_s,Y_s,S_s,kf):\n",
      "        #print \"GPcore init\"\n",
      "        #print X_s.T\n",
      "        #print Y_s.T\n",
      "        #print S_s.T\n",
      "        \n",
      "        self.X_s=X_s\n",
      "        #self.Y_s=Y_s\n",
      "        #self.S_s=S_s\n",
      "        self.kf=kf\n",
      "        \n",
      "        K_ss = buildKsym(kf,X_s)\n",
      "        self.K_ss_cf = spl.cho_factor(K_ss+vec2trace(S_s))\n",
      "        self.a = spl.cho_solve(self.K_ss_cf,Y_s)\n",
      "        #print \"a\"\n",
      "        #print self.a.T\n",
      "        #print \"----------\"\n",
      "        return\n",
      "    \n",
      "    def changeY(self,Y_s):\n",
      "        #print \"changeY\"\n",
      "        #print Y_s.T\n",
      "        \n",
      "        self.a = spl.cho_solve(self.K_ss_cf,Y_s)\n",
      "        #print \"a\"\n",
      "        #print self.a.T\n",
      "        return\n",
      "    \n",
      "    def infer_m(self,X_i):\n",
      "        K_si = buildKasym(kf,X_i,self.X_s)\n",
      "        m = K_si*self.a\n",
      "        return m\n",
      "    \n",
      "    def infer_full(self,X_i):\n",
      "        K_ii = buildKsym(kf,X_i)\n",
      "        K_si = buildKasym(kf,X_i,self.X_s)\n",
      "        \n",
      "        m = K_si*self.a\n",
      "        V = K_ii - K_si*spl.cho_solve(self.K_ss_cf,K_si.T)\n",
      "        \n",
      "        return [m,V]\n",
      "    \n",
      "    def infer_diag(self,X_i):\n",
      "        K_si = buildKasym(kf,X_i,self.X_s)\n",
      "        m = K_si*self.a\n",
      "        V=sp.matrix(sp.zeros(X_i.shape[0])).T\n",
      "        for j,r in enumerate(K_si):\n",
      "            V[j,0]=self.kf(X_i[j,0],X_i[j,0])-r*spl.cho_solve(self.K_ss_cf,r.T)\n",
      "        return [m,V]\n",
      "    \n",
      "from scipy.stats import norm as norm\n",
      "def EI(ER,mu,sigma):\n",
      "    alpha=(-ER+mu)/sigma\n",
      "    Z=norm.cdf(-alpha)\n",
      "    if Z==0.0:\n",
      "        return 0.0\n",
      "\t#print \"alpha: \"+str(alpha)\n",
      "\t#print \"Z: \"+str(Z)\n",
      "    E=-mu+norm.pdf(alpha)*sigma/Z+ER\n",
      "    EI=Z*E\n",
      "    if sp.isfinite(EI):\n",
      "        return EI\n",
      "    else:\n",
      "        return 0.0"
     ],
     "language": "python",
     "metadata": {},
     "outputs": [],
     "prompt_number": 1
    },
    {
     "cell_type": "code",
     "collapsed": false,
     "input": [
      "#the true kernel is a sqexp with output 1.5 and length 0.25\n",
      "kf_true=gen_sqexp_k([1.5,0.25])\n",
      "kf=kf_true #infering using hte true kernel for now"
     ],
     "language": "python",
     "metadata": {},
     "outputs": [],
     "prompt_number": 2
    },
    {
     "cell_type": "code",
     "collapsed": false,
     "input": [
      "import os\n",
      "def hist1(m_p,V_p_cho,n):\n",
      "    sp.random.seed()\n",
      "    dim=m_p.shape[0]\n",
      "    h=sp.zeros(dim)\n",
      "    for i in xrange(n):\n",
      "        h[(m_p+V_p_cho*sp.matrix(sp.random.normal(size=dim)).T).argmin()]+=1\n",
      "    return h\n",
      "\n",
      "from multiprocessing import Pool\n",
      "import os\n",
      "os.system(\"taskset -p 0xff %d\" % os.getpid())\n",
      "from functools import partial\n",
      "\n",
      "def hist0(m_p,V_p_cho,n):\n",
      "    h=sp.zeros(m_p.shape[0])\n",
      "    p=Pool(processes=8)\n",
      "    nt=n/8\n",
      "    ns = [nt]*7\n",
      "    ns.append(n-7*nt)\n",
      "    hf=partial(hist1,m_p,V_p_cho)\n",
      "    hs=p.map(hf,ns)\n",
      "    for j in hs:\n",
      "        for i in xrange(len(h)):\n",
      "            h[i]+=j[i]\n",
      "    \n",
      "    p.close()\n",
      "    \n",
      "    return h\n"
     ],
     "language": "python",
     "metadata": {},
     "outputs": [],
     "prompt_number": 3
    },
    {
     "cell_type": "code",
     "collapsed": false,
     "input": [
      "class GP:\n",
      "    def __init__(self,X,Y,S,upper,lower):\n",
      "        self.X=X\n",
      "        self.Y=Y\n",
      "        self.S=S\n",
      "        \n",
      "        self.upper=upper\n",
      "        self.lower=lower\n",
      "        return\n",
      "    \n",
      "    def infer_full(self,kf,X_i):\n",
      "        g=GPcore(self.X,self.Y,self.S,kf)\n",
      "        [m_i,V_i] = g.infer_full(X_i)\n",
      "        return [m_i,V_i]\n",
      "\n",
      "    def infer_diag(self,kf,X_i):\n",
      "        g=GPcore(self.X,self.Y,self.S,kf)\n",
      "        [m_i,V_i] = g.infer_diag(X_i)\n",
      "        return [m_i,V_i]\n",
      "    \n",
      "    def plot(self,kf,ei=False):\n",
      "        upper=self.upper\n",
      "        lower=self.lower\n",
      "        g=GPcore(self.X,self.Y,self.S,kf)\n",
      "        \n",
      "        n_p=400\n",
      "       \n",
      "        X_p = sp.matrix(sp.linspace(-1,1,n_p)).T #plot points\n",
      "        [m_p,V_p] = g.infer_diag(X_p)\n",
      "\n",
      "\n",
      "        #compute the upper and lower 2std bounds\n",
      "        ub=sp.zeros(n_p)\n",
      "        lb=sp.zeros(n_p)\n",
      "        for i in xrange(n_p):\n",
      "            ub[i]=m_p[i,0]+2*sp.sqrt(V_p[i,0])\n",
      "            lb[i]=m_p[i,0]-2*sp.sqrt(V_p[i,0])\n",
      "\n",
      "            #plot the posterior\n",
      "        plt.figure(figsize=(10,10))\n",
      "        plt.plot(sp.array(X_p).flatten(),sp.array(m_p).flatten())\n",
      "        plt.plot(sp.array(X).flatten(),sp.array(Y).flatten(),'xr')\n",
      "        plt.fill_between(sp.array(X_p).flatten(),lb,ub,facecolor='lightskyblue',alpha=0.5)\n",
      "\n",
      "        if ei:\n",
      "            ER = min(sp.array(m_p).flatten())\n",
      "            #print ER\n",
      "            e=sp.zeros(n_p)\n",
      "            for i in xrange(n_p):\n",
      "                e[i]=EI(ER,m_p[i,0],V_p[i,0])\n",
      "            plt.plot(sp.array(X_p).flatten(),e)\n",
      "        #take some draws from the posterior\n",
      "        #[m_p,V_p] = g.infer_full(X_p)\n",
      "        #V_p_cho = spl.cholesky(V_p,lower=True)\n",
      "        #for i in range(3):\n",
      "        #    z=sp.matrix(sp.random.normal(size=n_p)).T\n",
      "        #    draw=m_p+V_p_cho*z\n",
      "        #    plt.plot(sp.array(X_p).flatten(),sp.array(draw).flatten(),'g')\n",
      "        return\n",
      "\n",
      "    def ent0(self,m_p,V_p_cho,n_h,n_p):\n",
      "        h=hist0(m_p,V_p_cho,n_h)\n",
      "        #h=sp.zeros(n_p)\n",
      "\n",
      "        #for i in xrange(n_h):\n",
      "        #   h[(m_p+V_p_cho*sp.matrix(sp.random.normal(size=n_p)).T).argmin()]+=1\n",
      "        H=0\n",
      "\n",
      "        for b in h:\n",
      "            pbin = b/n_h\n",
      "            p = pbin*n_p/2.\n",
      "            H+= xlx0(p)*2./n_p\n",
      "        \n",
      "        return [-H,h]\n",
      "    \n",
      "    def ent_var(self,n_p,n_h,kf,plot=False,X_s=None,Y_s=None,S_s=None,ei=False):\n",
      "        #n_p ist he number of bins\n",
      "        #n_h is the number of draws\n",
      "        upper=self.upper\n",
      "        lower=self.lower\n",
      "        if X_s == None:\n",
      "            X_s = self.X\n",
      "            Y_s = self.Y\n",
      "            S_s = self.S\n",
      "        g=GPcore(X_s,Y_s,S_s,kf)\n",
      "        \n",
      "        initset = sp.matrix(sp.random.uniform(lower,upper,75)).T\n",
      "        [m_i,v_i]=g.infer_diag(initset)\n",
      "        eiset=[]\n",
      "        S=min(sp.array(Y_s).flatten())\n",
      "        for j in xrange(75):\n",
      "            eiset.append(EI(S,m_i[j,0],v_i[j,0]))\n",
      "        #plt.plot( eiset)\n",
      "        scale = sp.mean(eiset)\n",
      "        \n",
      "        acc=0\n",
      "        X_p = sp.matrix(sp.zeros(n_p)).T\n",
      "        W_p = sp.matrix(sp.zeros(n_p)).T\n",
      "        while acc<n_p:\n",
      "            x = sp.matrix(sp.random.uniform(lower,upper))\n",
      "            [m,v]=g.infer_diag(x)\n",
      "            ei = EI(S,m,v)\n",
      "            #p = 0.01+0.99*sp.arctan(ei/scale)\n",
      "            p=1.\n",
      "            if p>sp.random.uniform(0,1):\n",
      "                X_p[acc,0]=x\n",
      "                W_p[acc,0]=p\n",
      "                acc+=1\n",
      "        [m_p,V_p]=g.infer_full(X_p)\n",
      "        plt.plot(sp.array(X_p).flatten(),sp.array(m_p).flatten(),'x')\n",
      "        plt.plot(sp.array(X_p).flatten(),sp.array(W_p).flatten(),'x')\n",
      "        V_p_cho = spl.cholesky(V_p,lower=True)\n",
      "        h=hist0(m_p,V_p_cho,n_h)\n",
      "        acc=0\n",
      "        #acc2=0\n",
      "        pmm=[]\n",
      "        lpmm=[]\n",
      "        for j in xrange(n_p):\n",
      "            bw=2./float(n_p*W_p[j,0])\n",
      "            pmin = h[j]/float(n_h*bw)\n",
      "            pmm.append(pmin)\n",
      "            lpmm.append(xlx0(pmin))\n",
      "            #acc2+=pmin*bw\n",
      "            acc-=bw*xlx0(pmin)\n",
      "        plt.figure()\n",
      "        plt.plot(sp.array(X_p).flatten(),pmm,'x')\n",
      "        plt.figure()\n",
      "        plt.plot(sp.array(X_p).flatten(),lpmm,'x')\n",
      "        #print \"xXx \"+str(acc2)\n",
      "        return acc\n",
      "    \n",
      "    def ent(self,n_p,n_h,kf,plot=False,X_s=None,Y_s=None,S_s=None,ei=False):\n",
      "\n",
      "        #n_p ist he number of bins\n",
      "        #n_h is the number of draws\n",
      "        upper=self.upper\n",
      "        lower=self.lower\n",
      "        if X_s == None:\n",
      "            X_s = self.X\n",
      "            Y_s = self.Y\n",
      "            S_s = self.S\n",
      "        g=GPcore(X_s,Y_s,S_s,kf)\n",
      "       \n",
      "        X_p = sp.matrix(sp.linspace(lower,upper,n_p)).T #plot points\n",
      "        \n",
      "        [m_p,V_p] = g.infer_full(X_p)\n",
      "        #plt.figure()\n",
      "        #plt.plot(sp.array(X_p).flatten(),sp.array(m_p).flatten())\n",
      "        V_p_cho = spl.cholesky(V_p,lower=True)\n",
      "        \n",
      "        #print V_p_cho\n",
      "        [H,h] = self.ent0(m_p,V_p_cho,n_h,n_p)\n",
      "        #plt.figure()\n",
      "        #plt.plot(h)\n",
      "        if plot:\n",
      "            #plt.figure(figsize=(10,10))\n",
      "            plt.plot(sp.array(X_p).flatten(),map(lambda x:x*n_p/(2.*float(n_h)), h))\n",
      "            plt.plot(sp.array(X_p).flatten()[0],h[0]/float(n_h),'bo')\n",
      "            plt.plot(sp.array(X_p).flatten()[-1],h[-1]/float(n_h),'bo')\n",
      "        if ei:\n",
      "           \n",
      "            ER = min(sp.array(m_p).flatten())\n",
      "            #print ER\n",
      "            e=sp.zeros(n_p)\n",
      "            for i in xrange(n_p):\n",
      "                e[i]=(40*n_h/n_p)*EI(ER,m_p[i,0],V_p[i,i])\n",
      "            plt.plot(sp.array(X_p).flatten(),e,'g')\n",
      "            \n",
      "        return H\n",
      "    \n",
      "    def ent_over_infer(self,x,s,n_g,n_p,n_h,kf):\n",
      "        g=GPcore(self.X,self.Y,self.S,kf)\n",
      "        [m,v] = g.infer_diag(sp.matrix(x))\n",
      "        #print [m,v]\n",
      "        y_r = sp.linspace(m[0,0]-2*sp.sqrt(v[0,0]),m[0,0]+2*sp.sqrt(v[0,0]),n_g)\n",
      "        h_y=sp.zeros(n_g)\n",
      "        q_y=sp.zeros(n_g)\n",
      "        X=sp.vstack([self.X,x])\n",
      "        S=sp.vstack([self.S,s])\n",
      "        Y=sp.vstack([self.Y,0])\n",
      "        \n",
      "        X_p = sp.matrix(sp.linspace(self.lower,self.upper,n_p)).T\n",
      "        \n",
      "        gi=GPcore(X,Y,S,kf)\n",
      "        [m_p,V_p] = gi.infer_full(X_p)\n",
      "        V_p_cho = spl.cholesky(V_p,lower=True)\n",
      "        \n",
      "        h_a=0\n",
      "        for i,y in enumerate(y_r):\n",
      "            q_y[i] = sp.exp(-((m[0,0]-y)**2)/(2.*v[0,0]))\n",
      "            Yi=sp.vstack([self.Y,y])\n",
      "            gi.changeY(Yi)\n",
      "            #gi=GPcore(X,Yi,S,kf)\n",
      "            \n",
      "            m_p = gi.infer_m(X_p)\n",
      "            #plt.figure()\n",
      "            #plt.plot(sp.array(X_p).flatten(),sp.array(m_p).flatten())\n",
      "            \n",
      "            #V_p_cho = spl.cholesky(V_p,lower=True)\n",
      "            #print V_p_cho\n",
      "            [H,h] = self.ent0(m_p,V_p_cho,n_h,n_p)\n",
      "            #plt.figure()\n",
      "            #plt.plot(h)\n",
      "            h_y[i]=H\n",
      "            h_a+=q_y[i]*h_y[i]\n",
      "            #print str(y)+\" \"+str(h_y[i])\n",
      "        \n",
      "        plt.plot(h_y)\n",
      "        plt.plot(q_y)\n",
      "        H=h_a/float(sum(q_y))\n",
      "        #plt.plot([0,n_g-1],[H,H])\n",
      "        return H\n",
      "\n",
      "#n_s=7\n",
      "#X_s = sp.matrix(sp.random.uniform(-1,1,n_s)).T\n",
      "#the true kernel is a sqexp with output 1.5 and length 0.25\n",
      "#kf_true=gen_sqexp_k([1.5,0.25])\n",
      "#kf=kf_true #infering using hte true kernel for now\n",
      "#build hte covaarance matrix for the points to be observed and compute hte cholesky decomposition\n",
      "#K_ss = buildKsym(gen_sqexp_k([1.5,0.25]),X_s)\n",
      "#K_ss_cf = spl.cholesky(K_ss,lower=True)\n",
      "#draw the observed values\n",
      "#Y_s = K_ss_cf*sp.matrix(sp.random.normal(size=n_s)).T\n",
      "#I decide that the observations will have noise with std dev 0.1\n",
      "#S_s = sp.matrix([0.1**2]*n_s).T\n",
      "#G = GP(X_s,Y_s,S_s,-1,1)\n",
      "X=sp.matrix([[ 0.67895442], [ 0.95351727],  [-0.17015842],  [-0.34853386], [ 0.24985594]])\n",
      "Y=sp.matrix([[-0.11151686], [ 0.66395834],  [ 1.48704374],  [ 0.67308501], [-1.11346193]])\n",
      "S=sp.matrix([[ 0.01], [ 0.01], [ 0.01], [ 0.01], [ 0.01]])\n",
      "\n",
      "G=GP(X,Y,S,-1,1)"
     ],
     "language": "python",
     "metadata": {},
     "outputs": [],
     "prompt_number": 132
    },
    {
     "cell_type": "code",
     "collapsed": false,
     "input": [
      "G.plot(kf,ei=True)\n",
      "print G.infer_diag(kf, sp.matrix([0.5]))\n",
      "#G.ent(600,20000,kf,plot=True,ei=True)"
     ],
     "language": "python",
     "metadata": {},
     "outputs": [
      {
       "output_type": "stream",
       "stream": "stdout",
       "text": [
        "[matrix([[-0.9474256]]), matrix([[ 0.23074868]])]\n"
       ]
      },
      {
       "metadata": {},
       "output_type": "display_data",
       "png": "[encoded data removed]",
       "text": [
        "<matplotlib.figure.Figure at 0x7f3faf355a90>"
       ]
      }
     ],
     "prompt_number": 133
    },
    {
     "cell_type": "code",
     "collapsed": false,
     "input": [
      "G.ent_var(400,50000,kf)\n"
     ],
     "language": "python",
     "metadata": {},
     "outputs": [
      {
       "metadata": {},
       "output_type": "pyout",
       "prompt_number": 136,
       "text": [
        "-1.074451554429376"
       ]
      },
      {
       "metadata": {},
       "output_type": "display_data",
       "png": "[encoded data removed]",
       "text": [
        "<matplotlib.figure.Figure at 0x7f3faf472510>"
       ]
      },
      {
       "metadata": {},
       "output_type": "display_data",
       "png": "[encoded data removed]",
       "text": [
        "<matplotlib.figure.Figure at 0x7f3faf1e5a10>"
       ]
      },
      {
       "metadata": {},
       "output_type": "display_data",
       "png": "[encoded data removed]",
       "text": [
        "<matplotlib.figure.Figure at 0x7f3fb14e1410>"
       ]
      }
     ],
     "prompt_number": 136
    },
    {
     "cell_type": "code",
     "collapsed": false,
     "input": [
      "G.ent(400,50000,kf,plot=True)"
     ],
     "language": "python",
     "metadata": {},
     "outputs": [
      {
       "metadata": {},
       "output_type": "pyout",
       "prompt_number": 137,
       "text": [
        "-0.87217634061103744"
       ]
      },
      {
       "metadata": {},
       "output_type": "display_data",
       "png": "[encoded data removed]",
       "text": [
        "<matplotlib.figure.Figure at 0x7f3faf4f27d0>"
       ]
      }
     ],
     "prompt_number": 137
    },
    {
     "cell_type": "code",
     "collapsed": false,
     "input": [
      "h=[]\n",
      "t0=time.time()\n",
      "for x in sp.linspace(-1,1,40):\n",
      "    print x\n",
      "    h.append(G.ent_over_infer(x,0.01,12,600,20000,kf))\n",
      "t1=time.time()\n",
      "print t1-t0\n",
      "G.plot(kf)\n",
      "plt.plot(sp.linspace(-1,1,40),h)"
     ],
     "language": "python",
     "metadata": {},
     "outputs": [
      {
       "output_type": "stream",
       "stream": "stdout",
       "text": [
        "-1.0\n"
       ]
      },
      {
       "output_type": "stream",
       "stream": "stdout",
       "text": [
        "-0.948717948718\n"
       ]
      },
      {
       "output_type": "stream",
       "stream": "stdout",
       "text": [
        "-0.897435897436\n"
       ]
      },
      {
       "output_type": "stream",
       "stream": "stderr",
       "text": [
        "Exception in thread Thread-3416:\n",
        "Traceback (most recent call last):\n",
        "  File \"/home/mark/anaconda/lib/python2.7/threading.py\", line 810, in __bootstrap_inner\n",
        "    self.run()\n",
        "  File \"/home/mark/anaconda/lib/python2.7/site-packages/zmq/utils/garbage.py\", line 46, in run\n",
        "    s.bind(self.gc.url)\n",
        "  File \"socket.pyx\", line 448, in zmq.backend.cython.socket.Socket.bind (zmq/backend/cython/socket.c:4127)\n",
        "  File \"checkrc.pxd\", line 21, in zmq.backend.cython.checkrc._check_rc (zmq/backend/cython/socket.c:6083)\n",
        "ZMQError: Address already in use\n",
        "\n"
       ]
      },
      {
       "output_type": "stream",
       "stream": "stdout",
       "text": [
        "-0.846153846154\n"
       ]
      },
      {
       "output_type": "stream",
       "stream": "stderr",
       "text": [
        "Exception in thread Thread-3470:\n",
        "Traceback (most recent call last):\n",
        "  File \"/home/mark/anaconda/lib/python2.7/threading.py\", line 810, in __bootstrap_inner\n",
        "    self.run()\n",
        "  File \"/home/mark/anaconda/lib/python2.7/site-packages/zmq/utils/garbage.py\", line 46, in run\n",
        "    s.bind(self.gc.url)\n",
        "  File \"socket.pyx\", line 448, in zmq.backend.cython.socket.Socket.bind (zmq/backend/cython/socket.c:4127)\n",
        "  File \"checkrc.pxd\", line 21, in zmq.backend.cython.checkrc._check_rc (zmq/backend/cython/socket.c:6083)\n",
        "ZMQError: Address already in use\n",
        "\n"
       ]
      },
      {
       "output_type": "stream",
       "stream": "stdout",
       "text": [
        "-0.794871794872\n"
       ]
      },
      {
       "output_type": "stream",
       "stream": "stderr",
       "text": [
        "Exception in thread Thread-3506:\n",
        "Traceback (most recent call last):\n",
        "  File \"/home/mark/anaconda/lib/python2.7/threading.py\", line 810, in __bootstrap_inner\n",
        "    self.run()\n",
        "  File \"/home/mark/anaconda/lib/python2.7/site-packages/zmq/utils/garbage.py\", line 46, in run\n",
        "    s.bind(self.gc.url)\n",
        "  File \"socket.pyx\", line 448, in zmq.backend.cython.socket.Socket.bind (zmq/backend/cython/socket.c:4127)\n",
        "  File \"checkrc.pxd\", line 21, in zmq.backend.cython.checkrc._check_rc (zmq/backend/cython/socket.c:6083)\n",
        "ZMQError: Address already in use\n",
        "\n"
       ]
      },
      {
       "output_type": "stream",
       "stream": "stderr",
       "text": [
        "Exception in thread Thread-3512:\n",
        "Traceback (most recent call last):\n",
        "  File \"/home/mark/anaconda/lib/python2.7/threading.py\", line 810, in __bootstrap_inner\n",
        "    self.run()\n",
        "  File \"/home/mark/anaconda/lib/python2.7/site-packages/zmq/utils/garbage.py\", line 46, in run\n",
        "    s.bind(self.gc.url)\n",
        "  File \"socket.pyx\", line 448, in zmq.backend.cython.socket.Socket.bind (zmq/backend/cython/socket.c:4127)\n",
        "  File \"checkrc.pxd\", line 21, in zmq.backend.cython.checkrc._check_rc (zmq/backend/cython/socket.c:6083)\n",
        "ZMQError: Address already in use\n",
        "\n",
        "Exception in thread Thread-3512:\n",
        "Traceback (most recent call last):\n",
        "  File \"/home/mark/anaconda/lib/python2.7/threading.py\", line 810, in __bootstrap_inner\n",
        "    self.run()\n",
        "  File \"/home/mark/anaconda/lib/python2.7/site-packages/zmq/utils/garbage.py\", line 46, in run\n",
        "    s.bind(self.gc.url)\n",
        "  File \"socket.pyx\", line 448, in zmq.backend.cython.socket.Socket.bind (zmq/backend/cython/socket.c:4127)\n",
        "  File \"checkrc.pxd\", line 21, in zmq.backend.cython.checkrc._check_rc (zmq/backend/cython/socket.c:6083)\n",
        "ZMQError: Address already in use\n",
        "\n"
       ]
      },
      {
       "output_type": "stream",
       "stream": "stdout",
       "text": [
        "-0.74358974359\n"
       ]
      },
      {
       "output_type": "stream",
       "stream": "stderr",
       "text": [
        "Exception in thread Thread-3521:\n",
        "Traceback (most recent call last):\n",
        "  File \"/home/mark/anaconda/lib/python2.7/threading.py\", line 810, in __bootstrap_inner\n",
        "    self.run()\n",
        "  File \"/home/mark/anaconda/lib/python2.7/site-packages/zmq/utils/garbage.py\", line 46, in run\n",
        "    s.bind(self.gc.url)\n",
        "  File \"socket.pyx\", line 448, in zmq.backend.cython.socket.Socket.bind (zmq/backend/cython/socket.c:4127)\n",
        "  File \"checkrc.pxd\", line 21, in zmq.backend.cython.checkrc._check_rc (zmq/backend/cython/socket.c:6083)\n",
        "ZMQError: Address already in use\n",
        "\n"
       ]
      },
      {
       "output_type": "stream",
       "stream": "stderr",
       "text": [
        "Exception in thread Thread-3554:\n",
        "Traceback (most recent call last):\n",
        "  File \"/home/mark/anaconda/lib/python2.7/threading.py\", line 810, in __bootstrap_inner\n",
        "    self.run()\n",
        "  File \"/home/mark/anaconda/lib/python2.7/site-packages/zmq/utils/garbage.py\", line 46, in run\n",
        "    s.bind(self.gc.url)\n",
        "  File \"socket.pyx\", line 448, in zmq.backend.cython.socket.Socket.bind (zmq/backend/cython/socket.c:4127)\n",
        "  File \"checkrc.pxd\", line 21, in zmq.backend.cython.checkrc._check_rc (zmq/backend/cython/socket.c:6083)\n",
        "ZMQError: Address already in use\n",
        "\n",
        "Exception in thread Thread-3554:\n",
        "Traceback (most recent call last):\n",
        "  File \"/home/mark/anaconda/lib/python2.7/threading.py\", line 810, in __bootstrap_inner\n",
        "    self.run()\n",
        "  File \"/home/mark/anaconda/lib/python2.7/site-packages/zmq/utils/garbage.py\", line 46, in run\n",
        "    s.bind(self.gc.url)\n",
        "  File \"socket.pyx\", line 448, in zmq.backend.cython.socket.Socket.bind (zmq/backend/cython/socket.c:4127)\n",
        "  File \"checkrc.pxd\", line 21, in zmq.backend.cython.checkrc._check_rc (zmq/backend/cython/socket.c:6083)\n",
        "ZMQError: Address already in use\n",
        "\n",
        "Exception in thread Thread-3554:\n",
        "Traceback (most recent call last):\n",
        "  File \"/home/mark/anaconda/lib/python2.7/threading.py\", line 810, in __bootstrap_inner\n",
        "    self.run()\n",
        "  File \"/home/mark/anaconda/lib/python2.7/site-packages/zmq/utils/garbage.py\", line 46, in run\n",
        "    s.bind(self.gc.url)\n",
        "  File \"socket.pyx\", line 448, in zmq.backend.cython.socket.Socket.bind (zmq/backend/cython/socket.c:4127)\n",
        "  File \"checkrc.pxd\", line 21, in zmq.backend.cython.checkrc._check_rc (zmq/backend/cython/socket.c:6083)\n",
        "ZMQError: Address already in use\n",
        "\n",
        "Exception in thread Thread-3554:\n",
        "Traceback (most recent call last):\n",
        "  File \"/home/mark/anaconda/lib/python2.7/threading.py\", line 810, in __bootstrap_inner\n",
        "    self.run()\n",
        "  File \"/home/mark/anaconda/lib/python2.7/site-packages/zmq/utils/garbage.py\", line 46, in run\n",
        "    s.bind(self.gc.url)\n",
        "  File \"socket.pyx\", line 448, in zmq.backend.cython.socket.Socket.bind (zmq/backend/cython/socket.c:4127)\n",
        "  File \"checkrc.pxd\", line 21, in zmq.backend.cython.checkrc._check_rc (zmq/backend/cython/socket.c:6083)\n",
        "ZMQError: Address already in use\n",
        "\n",
        "Exception in thread Thread-3554:\n",
        "Traceback (most recent call last):\n",
        "  File \"/home/mark/anaconda/lib/python2.7/threading.py\", line 810, in __bootstrap_inner\n",
        "    self.run()\n",
        "  File \"/home/mark/anaconda/lib/python2.7/site-packages/zmq/utils/garbage.py\", line 46, in run\n",
        "    s.bind(self.gc.url)\n",
        "  File \"socket.pyx\", line 448, in zmq.backend.cython.socket.Socket.bind (zmq/backend/cython/socket.c:4127)\n",
        "  File \"checkrc.pxd\", line 21, in zmq.backend.cython.checkrc._check_rc (zmq/backend/cython/socket.c:6083)\n",
        "ZMQError: Address already in use\n",
        "\n",
        "Exception in thread Thread-3554:\n",
        "Traceback (most recent call last):\n",
        "  File \"/home/mark/anaconda/lib/python2.7/threading.py\", line 810, in __bootstrap_inner\n",
        "    self.run()\n",
        "  File \"/home/mark/anaconda/lib/python2.7/site-packages/zmq/utils/garbage.py\", line 46, in run\n",
        "    s.bind(self.gc.url)\n",
        "  File \"socket.pyx\", line 448, in zmq.backend.cython.socket.Socket.bind (zmq/backend/cython/socket.c:4127)\n",
        "  File \"checkrc.pxd\", line 21, in zmq.backend.cython.checkrc._check_rc (zmq/backend/cython/socket.c:6083)\n",
        "ZMQError: Address already in use\n",
        "\n",
        "Exception in thread Thread-3554:\n",
        "Traceback (most recent call last):\n",
        "  File \"/home/mark/anaconda/lib/python2.7/threading.py\", line 810, in __bootstrap_inner\n",
        "    self.run()\n",
        "  File \"/home/mark/anaconda/lib/python2.7/site-packages/zmq/utils/garbage.py\", line 46, in run\n",
        "    s.bind(self.gc.url)\n",
        "  File \"socket.pyx\", line 448, in zmq.backend.cython.socket.Socket.bind (zmq/backend/cython/socket.c:4127)\n",
        "  File \"checkrc.pxd\", line 21, in zmq.backend.cython.checkrc._check_rc (zmq/backend/cython/socket.c:6083)\n",
        "ZMQError: Address already in use\n",
        "\n"
       ]
      },
      {
       "output_type": "stream",
       "stream": "stdout",
       "text": [
        "-0.692307692308\n"
       ]
      },
      {
       "output_type": "stream",
       "stream": "stderr",
       "text": [
        "Exception in thread Thread-3557:\n",
        "Traceback (most recent call last):\n",
        "  File \"/home/mark/anaconda/lib/python2.7/threading.py\", line 810, in __bootstrap_inner\n",
        "    self.run()\n",
        "  File \"/home/mark/anaconda/lib/python2.7/site-packages/zmq/utils/garbage.py\", line 46, in run\n",
        "    s.bind(self.gc.url)\n",
        "  File \"socket.pyx\", line 448, in zmq.backend.cython.socket.Socket.bind (zmq/backend/cython/socket.c:4127)\n",
        "  File \"checkrc.pxd\", line 21, in zmq.backend.cython.checkrc._check_rc (zmq/backend/cython/socket.c:6083)\n",
        "ZMQError: Address already in use\n",
        "\n"
       ]
      },
      {
       "output_type": "stream",
       "stream": "stderr",
       "text": [
        "Exception in thread Thread-3560:\n",
        "Traceback (most recent call last):\n",
        "  File \"/home/mark/anaconda/lib/python2.7/threading.py\", line 810, in __bootstrap_inner\n",
        "    self.run()\n",
        "  File \"/home/mark/anaconda/lib/python2.7/site-packages/zmq/utils/garbage.py\", line 46, in run\n",
        "    s.bind(self.gc.url)\n",
        "  File \"socket.pyx\", line 448, in zmq.backend.cython.socket.Socket.bind (zmq/backend/cython/socket.c:4127)\n",
        "  File \"checkrc.pxd\", line 21, in zmq.backend.cython.checkrc._check_rc (zmq/backend/cython/socket.c:6083)\n",
        "ZMQError: Address already in use\n",
        "\n"
       ]
      },
      {
       "output_type": "stream",
       "stream": "stdout",
       "text": [
        "-0.641025641026\n"
       ]
      },
      {
       "output_type": "stream",
       "stream": "stdout",
       "text": [
        "-0.589743589744\n"
       ]
      },
      {
       "output_type": "stream",
       "stream": "stderr",
       "text": [
        "Exception in thread Thread-3650:\n",
        "Traceback (most recent call last):\n",
        "  File \"/home/mark/anaconda/lib/python2.7/threading.py\", line 810, in __bootstrap_inner\n",
        "    self.run()\n",
        "  File \"/home/mark/anaconda/lib/python2.7/site-packages/zmq/utils/garbage.py\", line 46, in run\n",
        "    s.bind(self.gc.url)\n",
        "  File \"socket.pyx\", line 448, in zmq.backend.cython.socket.Socket.bind (zmq/backend/cython/socket.c:4127)\n",
        "  File \"checkrc.pxd\", line 21, in zmq.backend.cython.checkrc._check_rc (zmq/backend/cython/socket.c:6083)\n",
        "ZMQError: Address already in use\n",
        "\n",
        "Exception in thread Thread-3650:\n",
        "Traceback (most recent call last):\n",
        "  File \"/home/mark/anaconda/lib/python2.7/threading.py\", line 810, in __bootstrap_inner\n",
        "    self.run()\n",
        "  File \"/home/mark/anaconda/lib/python2.7/site-packages/zmq/utils/garbage.py\", line 46, in run\n",
        "    s.bind(self.gc.url)\n",
        "  File \"socket.pyx\", line 448, in zmq.backend.cython.socket.Socket.bind (zmq/backend/cython/socket.c:4127)\n",
        "  File \"checkrc.pxd\", line 21, in zmq.backend.cython.checkrc._check_rc (zmq/backend/cython/socket.c:6083)\n",
        "ZMQError: Address already in use\n",
        "\n",
        "Exception in thread Thread-3650:\n",
        "Traceback (most recent call last):\n",
        "  File \"/home/mark/anaconda/lib/python2.7/threading.py\", line 810, in __bootstrap_inner\n",
        "    self.run()\n",
        "  File \"/home/mark/anaconda/lib/python2.7/site-packages/zmq/utils/garbage.py\", line 46, in run\n",
        "    s.bind(self.gc.url)\n",
        "  File \"socket.pyx\", line 448, in zmq.backend.cython.socket.Socket.bind (zmq/backend/cython/socket.c:4127)\n",
        "  File \"checkrc.pxd\", line 21, in zmq.backend.cython.checkrc._check_rc (zmq/backend/cython/socket.c:6083)\n",
        "ZMQError: Address already in use\n",
        "\n"
       ]
      },
      {
       "output_type": "stream",
       "stream": "stdout",
       "text": [
        "-0.538461538462\n"
       ]
      },
      {
       "output_type": "stream",
       "stream": "stdout",
       "text": [
        "-0.487179487179\n"
       ]
      },
      {
       "output_type": "stream",
       "stream": "stderr",
       "text": [
        "Exception in thread Thread-3716:\n",
        "Traceback (most recent call last):\n",
        "  File \"/home/mark/anaconda/lib/python2.7/threading.py\", line 810, in __bootstrap_inner\n",
        "    self.run()\n",
        "  File \"/home/mark/anaconda/lib/python2.7/site-packages/zmq/utils/garbage.py\", line 46, in run\n",
        "    s.bind(self.gc.url)\n",
        "  File \"socket.pyx\", line 448, in zmq.backend.cython.socket.Socket.bind (zmq/backend/cython/socket.c:4127)\n",
        "  File \"checkrc.pxd\", line 21, in zmq.backend.cython.checkrc._check_rc (zmq/backend/cython/socket.c:6083)\n",
        "ZMQError: Address already in use\n",
        "\n",
        "Exception in thread Thread-3716:\n",
        "Traceback (most recent call last):\n",
        "  File \"/home/mark/anaconda/lib/python2.7/threading.py\", line 810, in __bootstrap_inner\n",
        "    self.run()\n",
        "  File \"/home/mark/anaconda/lib/python2.7/site-packages/zmq/utils/garbage.py\", line 46, in run\n",
        "    s.bind(self.gc.url)\n",
        "  File \"socket.pyx\", line 448, in zmq.backend.cython.socket.Socket.bind (zmq/backend/cython/socket.c:4127)\n",
        "  File \"checkrc.pxd\", line 21, in zmq.backend.cython.checkrc._check_rc (zmq/backend/cython/socket.c:6083)\n",
        "ZMQError: Address already in use\n",
        "\n"
       ]
      },
      {
       "output_type": "stream",
       "stream": "stderr",
       "text": [
        "Exception in thread Thread-3722:\n",
        "Traceback (most recent call last):\n",
        "  File \"/home/mark/anaconda/lib/python2.7/threading.py\", line 810, in __bootstrap_inner\n",
        "    self.run()\n",
        "  File \"/home/mark/anaconda/lib/python2.7/site-packages/zmq/utils/garbage.py\", line 46, in run\n",
        "    s.bind(self.gc.url)\n",
        "  File \"socket.pyx\", line 448, in zmq.backend.cython.socket.Socket.bind (zmq/backend/cython/socket.c:4127)\n",
        "  File \"checkrc.pxd\", line 21, in zmq.backend.cython.checkrc._check_rc (zmq/backend/cython/socket.c:6083)\n",
        "ZMQError: Address already in use\n",
        "\n"
       ]
      },
      {
       "output_type": "stream",
       "stream": "stdout",
       "text": [
        "-0.435897435897\n"
       ]
      },
      {
       "output_type": "stream",
       "stream": "stderr",
       "text": [
        "Exception in thread Thread-3737:\n",
        "Traceback (most recent call last):\n",
        "  File \"/home/mark/anaconda/lib/python2.7/threading.py\", line 810, in __bootstrap_inner\n",
        "    self.run()\n",
        "  File \"/home/mark/anaconda/lib/python2.7/site-packages/zmq/utils/garbage.py\", line 46, in run\n",
        "    s.bind(self.gc.url)\n",
        "  File \"socket.pyx\", line 448, in zmq.backend.cython.socket.Socket.bind (zmq/backend/cython/socket.c:4127)\n",
        "  File \"checkrc.pxd\", line 21, in zmq.backend.cython.checkrc._check_rc (zmq/backend/cython/socket.c:6083)\n",
        "ZMQError: Address already in use\n",
        "\n"
       ]
      },
      {
       "output_type": "stream",
       "stream": "stdout",
       "text": [
        "-0.384615384615\n"
       ]
      },
      {
       "output_type": "stream",
       "stream": "stdout",
       "text": [
        "-0.333333333333\n"
       ]
      },
      {
       "output_type": "stream",
       "stream": "stderr",
       "text": [
        "Exception in thread Thread-3812:\n",
        "Traceback (most recent call last):\n",
        "  File \"/home/mark/anaconda/lib/python2.7/threading.py\", line 810, in __bootstrap_inner\n",
        "    self.run()\n",
        "  File \"/home/mark/anaconda/lib/python2.7/site-packages/zmq/utils/garbage.py\", line 46, in run\n",
        "    s.bind(self.gc.url)\n",
        "  File \"socket.pyx\", line 448, in zmq.backend.cython.socket.Socket.bind (zmq/backend/cython/socket.c:4127)\n",
        "  File \"checkrc.pxd\", line 21, in zmq.backend.cython.checkrc._check_rc (zmq/backend/cython/socket.c:6083)\n",
        "ZMQError: Address already in use\n",
        "\n"
       ]
      },
      {
       "output_type": "stream",
       "stream": "stderr",
       "text": [
        "Exception in thread Thread-3827:\n",
        "Traceback (most recent call last):\n",
        "  File \"/home/mark/anaconda/lib/python2.7/threading.py\", line 810, in __bootstrap_inner\n",
        "    self.run()\n",
        "  File \"/home/mark/anaconda/lib/python2.7/site-packages/zmq/utils/garbage.py\", line 46, in run\n",
        "    s.bind(self.gc.url)\n",
        "  File \"socket.pyx\", line 448, in zmq.backend.cython.socket.Socket.bind (zmq/backend/cython/socket.c:4127)\n",
        "  File \"checkrc.pxd\", line 21, in zmq.backend.cython.checkrc._check_rc (zmq/backend/cython/socket.c:6083)\n",
        "ZMQError: Address already in use\n",
        "\n",
        "Exception in thread Thread-3827:\n",
        "Traceback (most recent call last):\n",
        "  File \"/home/mark/anaconda/lib/python2.7/threading.py\", line 810, in __bootstrap_inner\n",
        "    self.run()\n",
        "  File \"/home/mark/anaconda/lib/python2.7/site-packages/zmq/utils/garbage.py\", line 46, in run\n",
        "    s.bind(self.gc.url)\n",
        "  File \"socket.pyx\", line 448, in zmq.backend.cython.socket.Socket.bind (zmq/backend/cython/socket.c:4127)\n",
        "  File \"checkrc.pxd\", line 21, in zmq.backend.cython.checkrc._check_rc (zmq/backend/cython/socket.c:6083)\n",
        "ZMQError: Address already in use\n",
        "\n",
        "Exception in thread Thread-3827:\n",
        "Traceback (most recent call last):\n",
        "  File \"/home/mark/anaconda/lib/python2.7/threading.py\", line 810, in __bootstrap_inner\n",
        "    self.run()\n",
        "  File \"/home/mark/anaconda/lib/python2.7/site-packages/zmq/utils/garbage.py\", line 46, in run\n",
        "    s.bind(self.gc.url)\n",
        "  File \"socket.pyx\", line 448, in zmq.backend.cython.socket.Socket.bind (zmq/backend/cython/socket.c:4127)\n",
        "  File \"checkrc.pxd\", line 21, in zmq.backend.cython.checkrc._check_rc (zmq/backend/cython/socket.c:6083)\n",
        "ZMQError: Address already in use\n",
        "\n",
        "Exception in thread Thread-3827:\n",
        "Traceback (most recent call last):\n",
        "  File \"/home/mark/anaconda/lib/python2.7/threading.py\", line 810, in __bootstrap_inner\n",
        "    self.run()\n",
        "  File \"/home/mark/anaconda/lib/python2.7/site-packages/zmq/utils/garbage.py\", line 46, in run\n",
        "    s.bind(self.gc.url)\n",
        "  File \"socket.pyx\", line 448, in zmq.backend.cython.socket.Socket.bind (zmq/backend/cython/socket.c:4127)\n",
        "  File \"checkrc.pxd\", line 21, in zmq.backend.cython.checkrc._check_rc (zmq/backend/cython/socket.c:6083)\n",
        "ZMQError: Address already in use\n",
        "\n",
        "Exception in thread Thread-3827:\n",
        "Traceback (most recent call last):\n",
        "  File \"/home/mark/anaconda/lib/python2.7/threading.py\", line 810, in __bootstrap_inner\n",
        "    self.run()\n",
        "  File \"/home/mark/anaconda/lib/python2.7/site-packages/zmq/utils/garbage.py\", line 46, in run\n",
        "    s.bind(self.gc.url)\n",
        "  File \"socket.pyx\", line 448, in zmq.backend.cython.socket.Socket.bind (zmq/backend/cython/socket.c:4127)\n",
        "  File \"checkrc.pxd\", line 21, in zmq.backend.cython.checkrc._check_rc (zmq/backend/cython/socket.c:6083)\n",
        "ZMQError: Address already in use\n",
        "\n",
        "Exception in thread Thread-3827:\n",
        "Traceback (most recent call last):\n",
        "  File \"/home/mark/anaconda/lib/python2.7/threading.py\", line 810, in __bootstrap_inner\n",
        "    self.run()\n",
        "  File \"/home/mark/anaconda/lib/python2.7/site-packages/zmq/utils/garbage.py\", line 46, in run\n",
        "    s.bind(self.gc.url)\n",
        "  File \"socket.pyx\", line 448, in zmq.backend.cython.socket.Socket.bind (zmq/backend/cython/socket.c:4127)\n",
        "  File \"checkrc.pxd\", line 21, in zmq.backend.cython.checkrc._check_rc (zmq/backend/cython/socket.c:6083)\n",
        "ZMQError: Address already in use\n",
        "\n"
       ]
      },
      {
       "output_type": "stream",
       "stream": "stdout",
       "text": [
        "-0.282051282051\n"
       ]
      },
      {
       "output_type": "stream",
       "stream": "stderr",
       "text": [
        "Exception in thread Thread-3860:\n",
        "Traceback (most recent call last):\n",
        "  File \"/home/mark/anaconda/lib/python2.7/threading.py\", line 810, in __bootstrap_inner\n",
        "    self.run()\n",
        "  File \"/home/mark/anaconda/lib/python2.7/site-packages/zmq/utils/garbage.py\", line 46, in run\n",
        "    s.bind(self.gc.url)\n",
        "  File \"socket.pyx\", line 448, in zmq.backend.cython.socket.Socket.bind (zmq/backend/cython/socket.c:4127)\n",
        "  File \"checkrc.pxd\", line 21, in zmq.backend.cython.checkrc._check_rc (zmq/backend/cython/socket.c:6083)\n",
        "ZMQError: Address already in use\n",
        "\n"
       ]
      },
      {
       "output_type": "stream",
       "stream": "stderr",
       "text": [
        "Exception in thread Thread-3872:\n",
        "Traceback (most recent call last):\n",
        "  File \"/home/mark/anaconda/lib/python2.7/threading.py\", line 810, in __bootstrap_inner\n",
        "    self.run()\n",
        "  File \"/home/mark/anaconda/lib/python2.7/site-packages/zmq/utils/garbage.py\", line 46, in run\n",
        "    s.bind(self.gc.url)\n",
        "  File \"socket.pyx\", line 448, in zmq.backend.cython.socket.Socket.bind (zmq/backend/cython/socket.c:4127)\n",
        "  File \"checkrc.pxd\", line 21, in zmq.backend.cython.checkrc._check_rc (zmq/backend/cython/socket.c:6083)\n",
        "ZMQError: Address already in use\n",
        "\n"
       ]
      },
      {
       "output_type": "stream",
       "stream": "stdout",
       "text": [
        "-0.230769230769\n"
       ]
      },
      {
       "output_type": "stream",
       "stream": "stderr",
       "text": [
        "Exception in thread Thread-3905:\n",
        "Traceback (most recent call last):\n",
        "  File \"/home/mark/anaconda/lib/python2.7/threading.py\", line 810, in __bootstrap_inner\n",
        "    self.run()\n",
        "  File \"/home/mark/anaconda/lib/python2.7/site-packages/zmq/utils/garbage.py\", line 46, in run\n",
        "    s.bind(self.gc.url)\n",
        "  File \"socket.pyx\", line 448, in zmq.backend.cython.socket.Socket.bind (zmq/backend/cython/socket.c:4127)\n",
        "  File \"checkrc.pxd\", line 21, in zmq.backend.cython.checkrc._check_rc (zmq/backend/cython/socket.c:6083)\n",
        "ZMQError: Address already in use\n",
        "\n"
       ]
      },
      {
       "output_type": "stream",
       "stream": "stdout",
       "text": [
        "-0.179487179487\n"
       ]
      },
      {
       "output_type": "stream",
       "stream": "stderr",
       "text": [
        "Exception in thread Thread-3935:\n",
        "Traceback (most recent call last):\n",
        "  File \"/home/mark/anaconda/lib/python2.7/threading.py\", line 810, in __bootstrap_inner\n",
        "    self.run()\n",
        "  File \"/home/mark/anaconda/lib/python2.7/site-packages/zmq/utils/garbage.py\", line 46, in run\n",
        "    s.bind(self.gc.url)\n",
        "  File \"socket.pyx\", line 448, in zmq.backend.cython.socket.Socket.bind (zmq/backend/cython/socket.c:4127)\n",
        "  File \"checkrc.pxd\", line 21, in zmq.backend.cython.checkrc._check_rc (zmq/backend/cython/socket.c:6083)\n",
        "ZMQError: Address already in use\n",
        "\n",
        "Exception in thread Thread-3935:\n",
        "Traceback (most recent call last):\n",
        "  File \"/home/mark/anaconda/lib/python2.7/threading.py\", line 810, in __bootstrap_inner\n",
        "    self.run()\n",
        "  File \"/home/mark/anaconda/lib/python2.7/site-packages/zmq/utils/garbage.py\", line 46, in run\n",
        "    s.bind(self.gc.url)\n",
        "  File \"socket.pyx\", line 448, in zmq.backend.cython.socket.Socket.bind (zmq/backend/cython/socket.c:4127)\n",
        "  File \"checkrc.pxd\", line 21, in zmq.backend.cython.checkrc._check_rc (zmq/backend/cython/socket.c:6083)\n",
        "ZMQError: Address already in use\n",
        "\n"
       ]
      },
      {
       "output_type": "stream",
       "stream": "stdout",
       "text": [
        "-0.128205128205\n"
       ]
      },
      {
       "output_type": "stream",
       "stream": "stderr",
       "text": [
        "Exception in thread Thread-3974:\n",
        "Traceback (most recent call last):\n",
        "  File \"/home/mark/anaconda/lib/python2.7/threading.py\", line 810, in __bootstrap_inner\n",
        "    self.run()\n",
        "  File \"/home/mark/anaconda/lib/python2.7/site-packages/zmq/utils/garbage.py\", line 46, in run\n",
        "    s.bind(self.gc.url)\n",
        "  File \"socket.pyx\", line 448, in zmq.backend.cython.socket.Socket.bind (zmq/backend/cython/socket.c:4127)\n",
        "  File \"checkrc.pxd\", line 21, in zmq.backend.cython.checkrc._check_rc (zmq/backend/cython/socket.c:6083)\n",
        "ZMQError: Address already in use\n",
        "\n"
       ]
      },
      {
       "output_type": "stream",
       "stream": "stdout",
       "text": [
        "-0.0769230769231\n"
       ]
      },
      {
       "output_type": "stream",
       "stream": "stdout",
       "text": [
        "-0.025641025641\n"
       ]
      },
      {
       "output_type": "stream",
       "stream": "stderr",
       "text": [
        "Exception in thread Thread-4034:\n",
        "Traceback (most recent call last):\n",
        "  File \"/home/mark/anaconda/lib/python2.7/threading.py\", line 810, in __bootstrap_inner\n",
        "    self.run()\n",
        "  File \"/home/mark/anaconda/lib/python2.7/site-packages/zmq/utils/garbage.py\", line 46, in run\n",
        "    s.bind(self.gc.url)\n",
        "  File \"socket.pyx\", line 448, in zmq.backend.cython.socket.Socket.bind (zmq/backend/cython/socket.c:4127)\n",
        "  File \"checkrc.pxd\", line 21, in zmq.backend.cython.checkrc._check_rc (zmq/backend/cython/socket.c:6083)\n",
        "ZMQError: Address already in use\n",
        "\n",
        "Exception in thread Thread-4034:\n",
        "Traceback (most recent call last):\n",
        "  File \"/home/mark/anaconda/lib/python2.7/threading.py\", line 810, in __bootstrap_inner\n",
        "    self.run()\n",
        "  File \"/home/mark/anaconda/lib/python2.7/site-packages/zmq/utils/garbage.py\", line 46, in run\n",
        "    s.bind(self.gc.url)\n",
        "  File \"socket.pyx\", line 448, in zmq.backend.cython.socket.Socket.bind (zmq/backend/cython/socket.c:4127)\n",
        "  File \"checkrc.pxd\", line 21, in zmq.backend.cython.checkrc._check_rc (zmq/backend/cython/socket.c:6083)\n",
        "ZMQError: Address already in use\n",
        "\n"
       ]
      },
      {
       "output_type": "stream",
       "stream": "stdout",
       "text": [
        "0.025641025641\n"
       ]
      },
      {
       "output_type": "stream",
       "stream": "stderr",
       "text": [
        "Exception in thread Thread-4061:\n",
        "Traceback (most recent call last):\n",
        "  File \"/home/mark/anaconda/lib/python2.7/threading.py\", line 810, in __bootstrap_inner\n",
        "    self.run()\n",
        "  File \"/home/mark/anaconda/lib/python2.7/site-packages/zmq/utils/garbage.py\", line 46, in run\n",
        "    s.bind(self.gc.url)\n",
        "  File \"socket.pyx\", line 448, in zmq.backend.cython.socket.Socket.bind (zmq/backend/cython/socket.c:4127)\n",
        "  File \"checkrc.pxd\", line 21, in zmq.backend.cython.checkrc._check_rc (zmq/backend/cython/socket.c:6083)\n",
        "ZMQError: Address already in use\n",
        "\n",
        "Exception in thread Thread-4061:\n",
        "Traceback (most recent call last):\n",
        "  File \"/home/mark/anaconda/lib/python2.7/threading.py\", line 810, in __bootstrap_inner\n",
        "    self.run()\n",
        "  File \"/home/mark/anaconda/lib/python2.7/site-packages/zmq/utils/garbage.py\", line 46, in run\n",
        "    s.bind(self.gc.url)\n",
        "  File \"socket.pyx\", line 448, in zmq.backend.cython.socket.Socket.bind (zmq/backend/cython/socket.c:4127)\n",
        "  File \"checkrc.pxd\", line 21, in zmq.backend.cython.checkrc._check_rc (zmq/backend/cython/socket.c:6083)\n",
        "ZMQError: Address already in use\n",
        "\n"
       ]
      },
      {
       "output_type": "stream",
       "stream": "stdout",
       "text": [
        "0.0769230769231\n"
       ]
      },
      {
       "output_type": "stream",
       "stream": "stdout",
       "text": [
        "0.128205128205\n"
       ]
      },
      {
       "output_type": "stream",
       "stream": "stderr",
       "text": [
        "Exception in thread Thread-4142:\n",
        "Traceback (most recent call last):\n",
        "  File \"/home/mark/anaconda/lib/python2.7/threading.py\", line 810, in __bootstrap_inner\n",
        "    self.run()\n",
        "  File \"/home/mark/anaconda/lib/python2.7/site-packages/zmq/utils/garbage.py\", line 46, in run\n",
        "    s.bind(self.gc.url)\n",
        "  File \"socket.pyx\", line 448, in zmq.backend.cython.socket.Socket.bind (zmq/backend/cython/socket.c:4127)\n",
        "  File \"checkrc.pxd\", line 21, in zmq.backend.cython.checkrc._check_rc (zmq/backend/cython/socket.c:6083)\n",
        "ZMQError: Address already in use\n",
        "\n",
        "Exception in thread Thread-4142:\n",
        "Traceback (most recent call last):\n",
        "  File \"/home/mark/anaconda/lib/python2.7/threading.py\", line 810, in __bootstrap_inner\n",
        "    self.run()\n",
        "  File \"/home/mark/anaconda/lib/python2.7/site-packages/zmq/utils/garbage.py\", line 46, in run\n",
        "    s.bind(self.gc.url)\n",
        "  File \"socket.pyx\", line 448, in zmq.backend.cython.socket.Socket.bind (zmq/backend/cython/socket.c:4127)\n",
        "  File \"checkrc.pxd\", line 21, in zmq.backend.cython.checkrc._check_rc (zmq/backend/cython/socket.c:6083)\n",
        "ZMQError: Address already in use\n",
        "\n"
       ]
      },
      {
       "output_type": "stream",
       "stream": "stdout",
       "text": [
        "0.179487179487\n"
       ]
      },
      {
       "output_type": "stream",
       "stream": "stdout",
       "text": [
        "0.230769230769\n"
       ]
      },
      {
       "output_type": "stream",
       "stream": "stderr",
       "text": [
        "Exception in thread Thread-4238:\n",
        "Traceback (most recent call last):\n",
        "  File \"/home/mark/anaconda/lib/python2.7/threading.py\", line 810, in __bootstrap_inner\n",
        "    self.run()\n",
        "  File \"/home/mark/anaconda/lib/python2.7/site-packages/zmq/utils/garbage.py\", line 46, in run\n",
        "    s.bind(self.gc.url)\n",
        "  File \"socket.pyx\", line 448, in zmq.backend.cython.socket.Socket.bind (zmq/backend/cython/socket.c:4127)\n",
        "  File \"checkrc.pxd\", line 21, in zmq.backend.cython.checkrc._check_rc (zmq/backend/cython/socket.c:6083)\n",
        "ZMQError: Address already in use\n",
        "\n"
       ]
      },
      {
       "output_type": "stream",
       "stream": "stdout",
       "text": [
        "0.282051282051\n"
       ]
      },
      {
       "output_type": "stream",
       "stream": "stdout",
       "text": [
        "0.333333333333\n"
       ]
      },
      {
       "output_type": "stream",
       "stream": "stderr",
       "text": [
        "Exception in thread Thread-4280:\n",
        "Traceback (most recent call last):\n",
        "  File \"/home/mark/anaconda/lib/python2.7/threading.py\", line 810, in __bootstrap_inner\n",
        "    self.run()\n",
        "  File \"/home/mark/anaconda/lib/python2.7/site-packages/zmq/utils/garbage.py\", line 46, in run\n",
        "    s.bind(self.gc.url)\n",
        "  File \"socket.pyx\", line 448, in zmq.backend.cython.socket.Socket.bind (zmq/backend/cython/socket.c:4127)\n",
        "  File \"checkrc.pxd\", line 21, in zmq.backend.cython.checkrc._check_rc (zmq/backend/cython/socket.c:6083)\n",
        "ZMQError: Address already in use\n",
        "\n"
       ]
      },
      {
       "output_type": "stream",
       "stream": "stdout",
       "text": [
        "0.384615384615\n"
       ]
      },
      {
       "output_type": "stream",
       "stream": "stdout",
       "text": [
        "0.435897435897\n"
       ]
      },
      {
       "output_type": "stream",
       "stream": "stdout",
       "text": [
        "0.487179487179\n"
       ]
      },
      {
       "output_type": "stream",
       "stream": "stderr",
       "text": [
        "Exception in thread Thread-4394:\n",
        "Traceback (most recent call last):\n",
        "  File \"/home/mark/anaconda/lib/python2.7/threading.py\", line 810, in __bootstrap_inner\n",
        "    self.run()\n",
        "  File \"/home/mark/anaconda/lib/python2.7/site-packages/zmq/utils/garbage.py\", line 46, in run\n",
        "    s.bind(self.gc.url)\n",
        "  File \"socket.pyx\", line 448, in zmq.backend.cython.socket.Socket.bind (zmq/backend/cython/socket.c:4127)\n",
        "  File \"checkrc.pxd\", line 21, in zmq.backend.cython.checkrc._check_rc (zmq/backend/cython/socket.c:6083)\n",
        "ZMQError: Address already in use\n",
        "\n",
        "Exception in thread Thread-4394:\n",
        "Traceback (most recent call last):\n",
        "  File \"/home/mark/anaconda/lib/python2.7/threading.py\", line 810, in __bootstrap_inner\n",
        "    self.run()\n",
        "  File \"/home/mark/anaconda/lib/python2.7/site-packages/zmq/utils/garbage.py\", line 46, in run\n",
        "    s.bind(self.gc.url)\n",
        "  File \"socket.pyx\", line 448, in zmq.backend.cython.socket.Socket.bind (zmq/backend/cython/socket.c:4127)\n",
        "  File \"checkrc.pxd\", line 21, in zmq.backend.cython.checkrc._check_rc (zmq/backend/cython/socket.c:6083)\n",
        "ZMQError: Address already in use\n",
        "\n"
       ]
      },
      {
       "output_type": "stream",
       "stream": "stdout",
       "text": [
        "0.538461538462\n"
       ]
      },
      {
       "output_type": "stream",
       "stream": "stderr",
       "text": [
        "Exception in thread Thread-4421:\n",
        "Traceback (most recent call last):\n",
        "  File \"/home/mark/anaconda/lib/python2.7/threading.py\", line 810, in __bootstrap_inner\n",
        "    self.run()\n",
        "  File \"/home/mark/anaconda/lib/python2.7/site-packages/zmq/utils/garbage.py\", line 46, in run\n",
        "    s.bind(self.gc.url)\n",
        "  File \"socket.pyx\", line 448, in zmq.backend.cython.socket.Socket.bind (zmq/backend/cython/socket.c:4127)\n",
        "  File \"checkrc.pxd\", line 21, in zmq.backend.cython.checkrc._check_rc (zmq/backend/cython/socket.c:6083)\n",
        "ZMQError: Address already in use\n",
        "\n",
        "Exception in thread Thread-4421:\n",
        "Traceback (most recent call last):\n",
        "  File \"/home/mark/anaconda/lib/python2.7/threading.py\", line 810, in __bootstrap_inner\n",
        "    self.run()\n",
        "  File \"/home/mark/anaconda/lib/python2.7/site-packages/zmq/utils/garbage.py\", line 46, in run\n",
        "    s.bind(self.gc.url)\n",
        "  File \"socket.pyx\", line 448, in zmq.backend.cython.socket.Socket.bind (zmq/backend/cython/socket.c:4127)\n",
        "  File \"checkrc.pxd\", line 21, in zmq.backend.cython.checkrc._check_rc (zmq/backend/cython/socket.c:6083)\n",
        "ZMQError: Address already in use\n",
        "\n",
        "Exception in thread Thread-4421:\n",
        "Traceback (most recent call last):\n",
        "  File \"/home/mark/anaconda/lib/python2.7/threading.py\", line 810, in __bootstrap_inner\n",
        "    self.run()\n",
        "  File \"/home/mark/anaconda/lib/python2.7/site-packages/zmq/utils/garbage.py\", line 46, in run\n",
        "    s.bind(self.gc.url)\n",
        "  File \"socket.pyx\", line 448, in zmq.backend.cython.socket.Socket.bind (zmq/backend/cython/socket.c:4127)\n",
        "  File \"checkrc.pxd\", line 21, in zmq.backend.cython.checkrc._check_rc (zmq/backend/cython/socket.c:6083)\n",
        "ZMQError: Address already in use\n",
        "\n",
        "Exception in thread Thread-4421:\n",
        "Traceback (most recent call last):\n",
        "  File \"/home/mark/anaconda/lib/python2.7/threading.py\", line 810, in __bootstrap_inner\n",
        "    self.run()\n",
        "  File \"/home/mark/anaconda/lib/python2.7/site-packages/zmq/utils/garbage.py\", line 46, in run\n",
        "    s.bind(self.gc.url)\n",
        "  File \"socket.pyx\", line 448, in zmq.backend.cython.socket.Socket.bind (zmq/backend/cython/socket.c:4127)\n",
        "  File \"checkrc.pxd\", line 21, in zmq.backend.cython.checkrc._check_rc (zmq/backend/cython/socket.c:6083)\n",
        "ZMQError: Address already in use\n",
        "\n",
        "Exception in thread Thread-4421:\n",
        "Traceback (most recent call last):\n",
        "  File \"/home/mark/anaconda/lib/python2.7/threading.py\", line 810, in __bootstrap_inner\n",
        "    self.run()\n",
        "  File \"/home/mark/anaconda/lib/python2.7/site-packages/zmq/utils/garbage.py\", line 46, in run\n",
        "    s.bind(self.gc.url)\n",
        "  File \"socket.pyx\", line 448, in zmq.backend.cython.socket.Socket.bind (zmq/backend/cython/socket.c:4127)\n",
        "  File \"checkrc.pxd\", line 21, in zmq.backend.cython.checkrc._check_rc (zmq/backend/cython/socket.c:6083)\n",
        "ZMQError: Address already in use\n",
        "\n"
       ]
      },
      {
       "output_type": "stream",
       "stream": "stdout",
       "text": [
        "0.589743589744\n"
       ]
      },
      {
       "output_type": "stream",
       "stream": "stdout",
       "text": [
        "0.641025641026\n"
       ]
      },
      {
       "output_type": "stream",
       "stream": "stderr",
       "text": [
        "Exception in thread Thread-4493:\n",
        "Traceback (most recent call last):\n",
        "  File \"/home/mark/anaconda/lib/python2.7/threading.py\", line 810, in __bootstrap_inner\n",
        "    self.run()\n",
        "  File \"/home/mark/anaconda/lib/python2.7/site-packages/zmq/utils/garbage.py\", line 46, in run\n",
        "    s.bind(self.gc.url)\n",
        "  File \"socket.pyx\", line 448, in zmq.backend.cython.socket.Socket.bind (zmq/backend/cython/socket.c:4127)\n",
        "  File \"checkrc.pxd\", line 21, in zmq.backend.cython.checkrc._check_rc (zmq/backend/cython/socket.c:6083)\n",
        "ZMQError: Address already in use\n",
        "\n",
        "Exception in thread Thread-4493:\n",
        "Traceback (most recent call last):\n",
        "  File \"/home/mark/anaconda/lib/python2.7/threading.py\", line 810, in __bootstrap_inner\n",
        "    self.run()\n",
        "  File \"/home/mark/anaconda/lib/python2.7/site-packages/zmq/utils/garbage.py\", line 46, in run\n",
        "    s.bind(self.gc.url)\n",
        "  File \"socket.pyx\", line 448, in zmq.backend.cython.socket.Socket.bind (zmq/backend/cython/socket.c:4127)\n",
        "  File \"checkrc.pxd\", line 21, in zmq.backend.cython.checkrc._check_rc (zmq/backend/cython/socket.c:6083)\n",
        "ZMQError: Address already in use\n",
        "\n",
        "Exception in thread Thread-4493:\n",
        "Traceback (most recent call last):\n",
        "  File \"/home/mark/anaconda/lib/python2.7/threading.py\", line 810, in __bootstrap_inner\n",
        "    self.run()\n",
        "  File \"/home/mark/anaconda/lib/python2.7/site-packages/zmq/utils/garbage.py\", line 46, in run\n",
        "    s.bind(self.gc.url)\n",
        "  File \"socket.pyx\", line 448, in zmq.backend.cython.socket.Socket.bind (zmq/backend/cython/socket.c:4127)\n",
        "  File \"checkrc.pxd\", line 21, in zmq.backend.cython.checkrc._check_rc (zmq/backend/cython/socket.c:6083)\n",
        "ZMQError: Address already in use\n",
        "\n"
       ]
      },
      {
       "output_type": "stream",
       "stream": "stdout",
       "text": [
        "0.692307692308\n"
       ]
      },
      {
       "output_type": "stream",
       "stream": "stderr",
       "text": [
        "Exception in thread Thread-4550:\n",
        "Traceback (most recent call last):\n",
        "  File \"/home/mark/anaconda/lib/python2.7/threading.py\", line 810, in __bootstrap_inner\n",
        "    self.run()\n",
        "  File \"/home/mark/anaconda/lib/python2.7/site-packages/zmq/utils/garbage.py\", line 46, in run\n",
        "    s.bind(self.gc.url)\n",
        "  File \"socket.pyx\", line 448, in zmq.backend.cython.socket.Socket.bind (zmq/backend/cython/socket.c:4127)\n",
        "  File \"checkrc.pxd\", line 21, in zmq.backend.cython.checkrc._check_rc (zmq/backend/cython/socket.c:6083)\n",
        "ZMQError: Address already in use\n",
        "\n",
        "Exception in thread Thread-4550:\n",
        "Traceback (most recent call last):\n",
        "  File \"/home/mark/anaconda/lib/python2.7/threading.py\", line 810, in __bootstrap_inner\n",
        "    self.run()\n",
        "  File \"/home/mark/anaconda/lib/python2.7/site-packages/zmq/utils/garbage.py\", line 46, in run\n",
        "    s.bind(self.gc.url)\n",
        "  File \"socket.pyx\", line 448, in zmq.backend.cython.socket.Socket.bind (zmq/backend/cython/socket.c:4127)\n",
        "  File \"checkrc.pxd\", line 21, in zmq.backend.cython.checkrc._check_rc (zmq/backend/cython/socket.c:6083)\n",
        "ZMQError: Address already in use\n",
        "\n",
        "Exception in thread Thread-4550:\n",
        "Traceback (most recent call last):\n",
        "  File \"/home/mark/anaconda/lib/python2.7/threading.py\", line 810, in __bootstrap_inner\n",
        "    self.run()\n",
        "  File \"/home/mark/anaconda/lib/python2.7/site-packages/zmq/utils/garbage.py\", line 46, in run\n",
        "    s.bind(self.gc.url)\n",
        "  File \"socket.pyx\", line 448, in zmq.backend.cython.socket.Socket.bind (zmq/backend/cython/socket.c:4127)\n",
        "  File \"checkrc.pxd\", line 21, in zmq.backend.cython.checkrc._check_rc (zmq/backend/cython/socket.c:6083)\n",
        "ZMQError: Address already in use\n",
        "\n",
        "Exception in thread Thread-4550:\n",
        "Traceback (most recent call last):\n",
        "  File \"/home/mark/anaconda/lib/python2.7/threading.py\", line 810, in __bootstrap_inner\n",
        "    self.run()\n",
        "  File \"/home/mark/anaconda/lib/python2.7/site-packages/zmq/utils/garbage.py\", line 46, in run\n",
        "    s.bind(self.gc.url)\n",
        "  File \"socket.pyx\", line 448, in zmq.backend.cython.socket.Socket.bind (zmq/backend/cython/socket.c:4127)\n",
        "  File \"checkrc.pxd\", line 21, in zmq.backend.cython.checkrc._check_rc (zmq/backend/cython/socket.c:6083)\n",
        "ZMQError: Address already in use\n",
        "\n"
       ]
      },
      {
       "output_type": "stream",
       "stream": "stderr",
       "text": [
        "Exception in thread Thread-4559:\n",
        "Traceback (most recent call last):\n",
        "  File \"/home/mark/anaconda/lib/python2.7/threading.py\", line 810, in __bootstrap_inner\n",
        "    self.run()\n",
        "  File \"/home/mark/anaconda/lib/python2.7/site-packages/zmq/utils/garbage.py\", line 46, in run\n",
        "    s.bind(self.gc.url)\n",
        "  File \"socket.pyx\", line 448, in zmq.backend.cython.socket.Socket.bind (zmq/backend/cython/socket.c:4127)\n",
        "  File \"checkrc.pxd\", line 21, in zmq.backend.cython.checkrc._check_rc (zmq/backend/cython/socket.c:6083)\n",
        "ZMQError: Address already in use\n",
        "\n"
       ]
      },
      {
       "output_type": "stream",
       "stream": "stdout",
       "text": [
        "0.74358974359\n"
       ]
      },
      {
       "output_type": "stream",
       "stream": "stdout",
       "text": [
        "0.794871794872\n"
       ]
      },
      {
       "output_type": "stream",
       "stream": "stdout",
       "text": [
        "0.846153846154\n"
       ]
      },
      {
       "output_type": "stream",
       "stream": "stderr",
       "text": [
        "Exception in thread Thread-4652:\n",
        "Traceback (most recent call last):\n",
        "  File \"/home/mark/anaconda/lib/python2.7/threading.py\", line 810, in __bootstrap_inner\n",
        "    self.run()\n",
        "  File \"/home/mark/anaconda/lib/python2.7/site-packages/zmq/utils/garbage.py\", line 46, in run\n",
        "    s.bind(self.gc.url)\n",
        "  File \"socket.pyx\", line 448, in zmq.backend.cython.socket.Socket.bind (zmq/backend/cython/socket.c:4127)\n",
        "  File \"checkrc.pxd\", line 21, in zmq.backend.cython.checkrc._check_rc (zmq/backend/cython/socket.c:6083)\n",
        "ZMQError: Address already in use\n",
        "\n"
       ]
      },
      {
       "output_type": "stream",
       "stream": "stdout",
       "text": [
        "0.897435897436\n"
       ]
      },
      {
       "output_type": "stream",
       "stream": "stderr",
       "text": [
        "Exception in thread Thread-4703:\n",
        "Traceback (most recent call last):\n",
        "  File \"/home/mark/anaconda/lib/python2.7/threading.py\", line 810, in __bootstrap_inner\n",
        "    self.run()\n",
        "  File \"/home/mark/anaconda/lib/python2.7/site-packages/zmq/utils/garbage.py\", line 46, in run\n",
        "    s.bind(self.gc.url)\n",
        "  File \"socket.pyx\", line 448, in zmq.backend.cython.socket.Socket.bind (zmq/backend/cython/socket.c:4127)\n",
        "  File \"checkrc.pxd\", line 21, in zmq.backend.cython.checkrc._check_rc (zmq/backend/cython/socket.c:6083)\n",
        "ZMQError: Address already in use\n",
        "\n"
       ]
      },
      {
       "output_type": "stream",
       "stream": "stdout",
       "text": [
        "0.948717948718\n"
       ]
      },
      {
       "output_type": "stream",
       "stream": "stderr",
       "text": [
        "Exception in thread Thread-4733:\n",
        "Traceback (most recent call last):\n",
        "  File \"/home/mark/anaconda/lib/python2.7/threading.py\", line 810, in __bootstrap_inner\n",
        "    self.run()\n",
        "  File \"/home/mark/anaconda/lib/python2.7/site-packages/zmq/utils/garbage.py\", line 46, in run\n",
        "    s.bind(self.gc.url)\n",
        "  File \"socket.pyx\", line 448, in zmq.backend.cython.socket.Socket.bind (zmq/backend/cython/socket.c:4127)\n",
        "  File \"checkrc.pxd\", line 21, in zmq.backend.cython.checkrc._check_rc (zmq/backend/cython/socket.c:6083)\n",
        "ZMQError: Address already in use\n",
        "\n"
       ]
      },
      {
       "output_type": "stream",
       "stream": "stdout",
       "text": [
        "1.0\n"
       ]
      },
      {
       "output_type": "stream",
       "stream": "stderr",
       "text": [
        "Exception in thread Thread-4745:\n",
        "Traceback (most recent call last):\n",
        "  File \"/home/mark/anaconda/lib/python2.7/threading.py\", line 810, in __bootstrap_inner\n",
        "    self.run()\n",
        "  File \"/home/mark/anaconda/lib/python2.7/site-packages/zmq/utils/garbage.py\", line 46, in run\n",
        "    s.bind(self.gc.url)\n",
        "  File \"socket.pyx\", line 448, in zmq.backend.cython.socket.Socket.bind (zmq/backend/cython/socket.c:4127)\n",
        "  File \"checkrc.pxd\", line 21, in zmq.backend.cython.checkrc._check_rc (zmq/backend/cython/socket.c:6083)\n",
        "ZMQError: Address already in use\n",
        "\n"
       ]
      },
      {
       "output_type": "stream",
       "stream": "stderr",
       "text": [
        "Exception in thread Thread-4778:\n",
        "Traceback (most recent call last):\n",
        "  File \"/home/mark/anaconda/lib/python2.7/threading.py\", line 810, in __bootstrap_inner\n",
        "    self.run()\n",
        "  File \"/home/mark/anaconda/lib/python2.7/site-packages/zmq/utils/garbage.py\", line 46, in run\n",
        "    s.bind(self.gc.url)\n",
        "  File \"socket.pyx\", line 448, in zmq.backend.cython.socket.Socket.bind (zmq/backend/cython/socket.c:4127)\n",
        "  File \"checkrc.pxd\", line 21, in zmq.backend.cython.checkrc._check_rc (zmq/backend/cython/socket.c:6083)\n",
        "ZMQError: Address already in use\n",
        "\n"
       ]
      },
      {
       "output_type": "stream",
       "stream": "stdout",
       "text": [
        "2791.86390781\n"
       ]
      },
      {
       "metadata": {},
       "output_type": "pyout",
       "prompt_number": 130,
       "text": [
        "[<matplotlib.lines.Line2D at 0x7fefe18a3ed0>]"
       ]
      },
      {
       "metadata": {},
       "output_type": "display_data",
       "png": "[encoded data removed]",
       "text": [
        "<matplotlib.figure.Figure at 0x7fefe155cfd0>"
       ]
      },
      {
       "metadata": {},
       "output_type": "display_data",
       "png": "[encoded data removed]",
       "text": [
        "<matplotlib.figure.Figure at 0x7fefe18a3ad0>"
       ]
      }
     ],
     "prompt_number": 130
    },
    {
     "cell_type": "code",
     "collapsed": false,
     "input": [
      "xlx0(0.131769447402)"
     ],
     "language": "python",
     "metadata": {},
     "outputs": [
      {
       "metadata": {},
       "output_type": "pyout",
       "prompt_number": 98,
       "text": [
        "-0.26705733592496556"
       ]
      }
     ],
     "prompt_number": 98
    },
    {
     "cell_type": "code",
     "collapsed": false,
     "input": [],
     "language": "python",
     "metadata": {},
     "outputs": []
    }
   ],
   "metadata": {}
  }
 ]
}