{
 "cells": [
  {
   "cell_type": "code",
   "execution_count": 1,
   "metadata": {
    "collapsed": false
   },
   "outputs": [
    {
     "name": "stdout",
     "output_type": "stream",
     "text": [
      "Populating the interactive namespace from numpy and matplotlib\n"
     ]
    }
   ],
   "source": [
    "import scipy as sp\n",
    "import scipy.stats as sps\n",
    "import scipy.linalg as spl\n",
    "import pandas as pd\n",
    "from matplotlib import pyplot as plt\n",
    "import seaborn as sns\n",
    "sns.set(rc={'image.cmap': 'cubehelix'})\n",
    "%pylab inline\n",
    "import time\n",
    "import GPd"
   ]
  },
  {
   "cell_type": "code",
   "execution_count": 2,
   "metadata": {
    "collapsed": false
   },
   "outputs": [],
   "source": [
    "dim=2\n",
    "n_p=32\n",
    "k=GPd.gen_sqexp_k_d([1.,0.1,0.2])\n",
    "k2=GPd.gen_sqexp_k_d([1.,0.6,0.2])\n",
    "X = sp.matrix(sp.random.uniform(-1,1,size=[n_p,dim]))\n",
    "K = GPd.buildKsym_d(k,X,[[sp.NaN]]*n_p)\n",
    "Kc = spl.cholesky(K, lower=True)\n",
    "Y = Kc*sp.matrix(sp.random.normal(size=[n_p,1]))"
   ]
  },
  {
   "cell_type": "code",
   "execution_count": 3,
   "metadata": {
    "collapsed": false
   },
   "outputs": [
    {
     "name": "stdout",
     "output_type": "stream",
     "text": [
      "[1.1937766417144369, 0.083767764006829198]\n"
     ]
    },
    {
     "data": {
      "image/png": "[encoded data removed]",
      "text/plain": [
       "<matplotlib.figure.Figure at 0x7f50a4ca4850>"
      ]
     },
     "metadata": {},
     "output_type": "display_data"
    },
    {
     "data": {
      "image/png": "[encoded data removed]",
      "text/plain": [
       "<matplotlib.figure.Figure at 0x7f50e00db710>"
      ]
     },
     "metadata": {},
     "output_type": "display_data"
    },
    {
     "data": {
      "image/png": "[encoded data removed]",
      "text/plain": [
       "<matplotlib.figure.Figure at 0x7f509db83490>"
      ]
     },
     "metadata": {},
     "output_type": "display_data"
    }
   ],
   "source": [
    "nplot=14\n",
    "L=sp.empty([nplot,nplot])\n",
    "P=sp.empty([nplot,nplot])\n",
    "index=sp.logspace(-2,1,nplot)\n",
    "for i,h1 in enumerate(index):\n",
    "    for j,h2 in enumerate(index):\n",
    "        kc=GPd.gen_sqexp_k_d([h1,h2,0.2])\n",
    "        g = GPd.GPcore(X,Y,sp.vstack([10e-9]*n_p),[[sp.NaN]]*n_p,kc)\n",
    "        llk=g.llk()\n",
    "        lp = sp.log(sps.norm.pdf(sp.log10(h1),loc=0)*sps.norm.pdf(sp.log10(h2),loc=-1))\n",
    "        L[i,j]=llk\n",
    "        P[i,j]=lp\n",
    "plt.contourf(L)\n",
    "plt.figure()\n",
    "plt.contourf(P)\n",
    "plt.figure()\n",
    "Post=L+P\n",
    "plt.contourf(Post)\n",
    "mx= unravel_index(Post.argmax(), Post.shape)\n",
    "\n",
    "print [index[mx[0]],index[mx[1]]]\n"
   ]
  },
  {
   "cell_type": "code",
   "execution_count": 4,
   "metadata": {
    "collapsed": false
   },
   "outputs": [],
   "source": [
    "dim=2\n",
    "n_p=150\n",
    "k=GPd.gen_sqexp_k_d([1.,0.1,0.2])\n",
    "X = sp.matrix(sp.random.uniform(-1,1,size=[n_p,dim]))\n",
    "K = GPd.buildKsym_d(k,X,[[sp.NaN]]*n_p)\n",
    "Kc = spl.cholesky(K, lower=True)\n",
    "Y = Kc*sp.matrix(sp.random.normal(size=[n_p,1]))\n",
    "S = sp.vstack([10e-3]*n_p)\n",
    "D = [[sp.NaN]]*n_p\n",
    "Data = [X,Y,S,D]"
   ]
  },
  {
   "cell_type": "code",
   "execution_count": 5,
   "metadata": {
    "collapsed": false
   },
   "outputs": [
    {
     "name": "stdout",
     "output_type": "stream",
     "text": [
      "-57096148.9905\n",
      "[-57096659.814186707, 648.66446975344456, -137.84077998070089]\n"
     ]
    }
   ],
   "source": [
    "g = GPd.GPcore(X,Y,sp.vstack([10e-9]*n_p),[[sp.NaN]]*n_p,k2)\n",
    "llk0=g.llk()\n",
    "print llk0\n",
    "print g.llk(extras=True)"
   ]
  },
  {
   "cell_type": "code",
   "execution_count": 6,
   "metadata": {
    "collapsed": false
   },
   "outputs": [],
   "source": [
    "def llk_subset(D,k,n):\n",
    "    [N,dim] = X.shape\n",
    "    subs = sp.random.choice(N,n,replace=False)\n",
    "    X_s = D[0][subs,:]\n",
    "    Y_s = D[1][subs,:]\n",
    "    S_s = D[2][subs,:]\n",
    "    D_s = [D[3][i] for i in subs]\n",
    "    \n",
    "    g = GPd.GPcore(X_s,Y_s,S_s,D_s,k)\n",
    "    return g.llk(extras=True)"
   ]
  },
  {
   "cell_type": "code",
   "execution_count": 7,
   "metadata": {
    "collapsed": false
   },
   "outputs": [
    {
     "name": "stdout",
     "output_type": "stream",
     "text": [
      "[-2.5306687484827974, -1.9921442272592738e-10, -3.6757541328186907]\n",
      "[-3.0415822650780511, 0.0015359931516555258, -3.6757541328186907]\n",
      "[-0.47801917133808242, 0.00024277074366179269, -3.6757541328186907]\n",
      "[-0.40173163291122704, 2.3578834825564616e-06, -3.6757541328186907]\n",
      "[-2.3419198877319309, 0.012010142256765298, -3.6757541328186907]\n",
      "[-1.8809632056323615, 2.1307281344542123e-08, -3.6757541328186907]\n",
      "[-0.18469269687641832, 2.6470270156882406e-06, -3.6757541328186907]\n",
      "[-0.6683553189862026, 0.0011984586513352346, -3.6757541328186907]\n",
      "[-4.2949717278209087, 0.25908995416856395, -3.6757541328186907]\n",
      "[-1.960581931211506, 0.53360687212793567, -3.6757541328186907]\n"
     ]
    }
   ],
   "source": [
    "for i in xrange(10):\n",
    "    print llk_subset(Data,k,4)"
   ]
  },
  {
   "cell_type": "code",
   "execution_count": 8,
   "metadata": {
    "collapsed": false
   },
   "outputs": [
    {
     "name": "stdout",
     "output_type": "stream",
     "text": [
      "10 11 12 13 14 15 16 17 18 19 20 21 22 23 24 25 26 27 28 29 30 31 32 33 34 35 36 37 38 39 40 41 42 43 44 45 46 47 48 49 50 51 52 53 54 55 56 57 58 59 60 61 62 63 64 65 66 67 68 69 70 71 72 73 74 75 76 77 78 79 80 81 82 83 84 85 86 87 88 89 90 91 92 93 94 95 96 97 98 99 100 101 102 103 104 105 106 107 108 109 110 111 112 113 114 115 116 117 118 119 120 121 122 123 124 125 126 127 128 129 130 131 132 133 134 135 136 137 138 139 140 141 142 143 144 145 146 147 148 149\n"
     ]
    }
   ],
   "source": [
    "#n_pts = map(int,sp.linspace(100,149,20))\n",
    "n_pts = range(10,150)\n",
    "n_sam = 2\n",
    "n_r = n_sam*len(n_pts)\n",
    "dat=[]\n",
    "\n",
    "for n in n_pts:\n",
    "    print n,\n",
    "    for i in xrange(n_sam):\n",
    "        lk=llk_subset(Data,k2,n)\n",
    "        dat.append([n,sum(lk)]+lk)\n",
    "        \n",
    "lmax=llk_subset(Data,k2,150)\n",
    "dat.append([150,sum(lmax)]+lmax)\n",
    "df = pd.DataFrame(dat, columns=('n', 'llk','t1','t2','t3') )"
   ]
  },
  {
   "cell_type": "code",
   "execution_count": 9,
   "metadata": {
    "collapsed": false
   },
   "outputs": [
    {
     "data": {
      "text/plain": [
       "<matplotlib.figure.Figure at 0x7f509d8cbf10>"
      ]
     },
     "execution_count": 9,
     "metadata": {},
     "output_type": "execute_result"
    },
    {
     "data": {
      "image/png": "[encoded data removed]",
      "text/plain": [
       "<matplotlib.figure.Figure at 0x7f50a4c8f2d0>"
      ]
     },
     "metadata": {},
     "output_type": "display_data"
    },
    {
     "data": {
      "image/png": "[encoded data removed]",
      "text/plain": [
       "<matplotlib.figure.Figure at 0x7f50a4c8f590>"
      ]
     },
     "metadata": {},
     "output_type": "display_data"
    },
    {
     "data": {
      "text/plain": [
       "<matplotlib.figure.Figure at 0x7f509d8cbf10>"
      ]
     },
     "metadata": {},
     "output_type": "display_data"
    }
   ],
   "source": [
    "plt.plot(df['n'],-df['llk'],'.')\n",
    "plt.figure()\n",
    "plt.loglog(df['n'],-df['llk'],'.')\n",
    "plt.figure()\n"
   ]
  },
  {
   "cell_type": "code",
   "execution_count": 10,
   "metadata": {
    "collapsed": false
   },
   "outputs": [
    {
     "data": {
      "text/plain": [
       "<matplotlib.figure.Figure at 0x7f509d4fbd90>"
      ]
     },
     "execution_count": 10,
     "metadata": {},
     "output_type": "execute_result"
    },
    {
     "data": {
      "image/png": "[encoded data removed]",
      "text/plain": [
       "<matplotlib.figure.Figure at 0x7f509d641690>"
      ]
     },
     "metadata": {},
     "output_type": "display_data"
    },
    {
     "data": {
      "image/png": "[encoded data removed]",
      "text/plain": [
       "<matplotlib.figure.Figure at 0x7f509d641e50>"
      ]
     },
     "metadata": {},
     "output_type": "display_data"
    },
    {
     "data": {
      "image/png": "[encoded data removed]",
      "text/plain": [
       "<matplotlib.figure.Figure at 0x7f509d567890>"
      ]
     },
     "metadata": {},
     "output_type": "display_data"
    },
    {
     "data": {
      "text/plain": [
       "<matplotlib.figure.Figure at 0x7f509d4fbd90>"
      ]
     },
     "metadata": {},
     "output_type": "display_data"
    }
   ],
   "source": [
    "plt.loglog(df['n'],-df['t1'],'.')\n",
    "plt.figure()\n",
    "plt.loglog(df['n'],df['t2'],'.')\n",
    "plt.figure()\n",
    "plt.loglog(df['n'],-df['t3'],'.')\n",
    "plt.figure()"
   ]
  },
  {
   "cell_type": "code",
   "execution_count": 11,
   "metadata": {
    "collapsed": false
   },
   "outputs": [
    {
     "data": {
      "text/plain": [
       "[<matplotlib.lines.Line2D at 0x7f50e00db890>]"
      ]
     },
     "execution_count": 11,
     "metadata": {},
     "output_type": "execute_result"
    },
    {
     "data": {
      "image/png": "[encoded data removed]",
      "text/plain": [
       "<matplotlib.figure.Figure at 0x7f509d641ed0>"
      ]
     },
     "metadata": {},
     "output_type": "display_data"
    }
   ],
   "source": [
    "plt.loglog(df['n'],[(-p)*(150./(df['n'][i]))**0.75 for i,p in enumerate(df['t1'])],'.')"
   ]
  },
  {
   "cell_type": "code",
   "execution_count": 12,
   "metadata": {
    "collapsed": false
   },
   "outputs": [
    {
     "data": {
      "text/plain": [
       "[<matplotlib.lines.Line2D at 0x7f509daa7ad0>]"
      ]
     },
     "execution_count": 12,
     "metadata": {},
     "output_type": "execute_result"
    },
    {
     "data": {
      "image/png": "[encoded data removed]",
      "text/plain": [
       "<matplotlib.figure.Figure at 0x7f509d4fbdd0>"
      ]
     },
     "metadata": {},
     "output_type": "display_data"
    }
   ],
   "source": [
    "plt.loglog(df['n'],[(p)*(150./(df['n'][i]))**2 for i,p in enumerate(df['t2'])],'.')"
   ]
  },
  {
   "cell_type": "code",
   "execution_count": 13,
   "metadata": {
    "collapsed": false
   },
   "outputs": [
    {
     "data": {
      "text/plain": [
       "[<matplotlib.lines.Line2D at 0x7f509d108950>]"
      ]
     },
     "execution_count": 13,
     "metadata": {},
     "output_type": "execute_result"
    },
    {
     "data": {
      "image/png": "[encoded data removed]",
      "text/plain": [
       "<matplotlib.figure.Figure at 0x7f50a512fdd0>"
      ]
     },
     "metadata": {},
     "output_type": "display_data"
    }
   ],
   "source": [
    "plt.loglog(df['n'],[(-p)*(150./(df['n'][i]))**1 for i,p in enumerate(df['t3'])],'.')"
   ]
  },
  {
   "cell_type": "code",
   "execution_count": 104,
   "metadata": {
    "collapsed": false
   },
   "outputs": [
    {
     "data": {
      "text/plain": [
       "150"
      ]
     },
     "execution_count": 104,
     "metadata": {},
     "output_type": "execute_result"
    }
   ],
   "source": [
    "df['n'][i]"
   ]
  },
  {
   "cell_type": "code",
   "execution_count": null,
   "metadata": {
    "collapsed": true
   },
   "outputs": [],
   "source": []
  }
 ],
 "metadata": {
  "kernelspec": {
   "display_name": "Python 2",
   "language": "python",
   "name": "python2"
  },
  "language_info": {
   "codemirror_mode": {
    "name": "ipython",
    "version": 2
   },
   "file_extension": ".py",
   "mimetype": "text/x-python",
   "name": "python",
   "nbconvert_exporter": "python",
   "pygments_lexer": "ipython2",
   "version": "2.7.6"
  }
 },
 "nbformat": 4,
 "nbformat_minor": 0
}
