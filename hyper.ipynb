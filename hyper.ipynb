{
 "cells": [
  {
   "cell_type": "code",
   "execution_count": 3,
   "metadata": {
    "collapsed": false
   },
   "outputs": [
    {
     "name": "stdout",
     "output_type": "stream",
     "text": [
      "Populating the interactive namespace from numpy and matplotlib\n"
     ]
    }
   ],
   "source": [
    "import scipy as sp\n",
    "import scipy.stats as sps\n",
    "import scipy.linalg as spl\n",
    "import pandas as pd\n",
    "from matplotlib import pyplot as plt\n",
    "import seaborn as sns\n",
    "sns.set(rc={'image.cmap': 'cubehelix'})\n",
    "%pylab inline\n",
    "import time\n",
    "import GPd"
   ]
  },
  {
   "cell_type": "code",
   "execution_count": 21,
   "metadata": {
    "collapsed": false
   },
   "outputs": [],
   "source": [
    "dim=2\n",
    "n_p=32\n",
    "k=GPd.gen_sqexp_k_d([1.,0.1,0.2])\n",
    "k2=GPd.gen_sqexp_k_d([1.,0.6,0.2])\n",
    "X = sp.matrix(sp.random.uniform(-1,1,size=[n_p,dim]))\n",
    "K = GPd.buildKsym_d(k,X,[[sp.NaN]]*n_p)\n",
    "Kc = spl.cholesky(K, lower=True)\n",
    "Y = Kc*sp.matrix(sp.random.normal(size=[n_p,1]))"
   ]
  },
  {
   "cell_type": "code",
   "execution_count": 5,
   "metadata": {
    "collapsed": false
   },
   "outputs": [
    {
     "name": "stdout",
     "output_type": "stream",
     "text": [
      "[0.70170382867038295, 0.083767764006829198]\n"
     ]
    },
    {
     "data": {
      "image/png": "[encoded data removed]",
      "text/plain": [
       "<matplotlib.figure.Figure at 0x7feb316edf50>"
      ]
     },
     "metadata": {},
     "output_type": "display_data"
    },
    {
     "data": {
      "image/png": "[encoded data removed]",
      "text/plain": [
       "<matplotlib.figure.Figure at 0x7feb316e39d0>"
      ]
     },
     "metadata": {},
     "output_type": "display_data"
    },
    {
     "data": {
      "image/png": "[encoded data removed]",
      "text/plain": [
       "<matplotlib.figure.Figure at 0x7feb0850e750>"
      ]
     },
     "metadata": {},
     "output_type": "display_data"
    }
   ],
   "source": [
    "nplot=14\n",
    "L=sp.empty([nplot,nplot])\n",
    "P=sp.empty([nplot,nplot])\n",
    "index=sp.logspace(-2,1,nplot)\n",
    "for i,h1 in enumerate(index):\n",
    "    for j,h2 in enumerate(index):\n",
    "        kc=GPd.gen_sqexp_k_d([h1,h2,0.2])\n",
    "        g = GPd.GPcore(X,Y,sp.vstack([10e-9]*n_p),[[sp.NaN]]*n_p,kc)\n",
    "        llk=g.llk()\n",
    "        lp = sp.log(sps.norm.pdf(sp.log10(h1),loc=0)*sps.norm.pdf(sp.log10(h2),loc=-1))\n",
    "        L[i,j]=llk\n",
    "        P[i,j]=lp\n",
    "plt.contourf(L)\n",
    "plt.figure()\n",
    "plt.contourf(P)\n",
    "plt.figure()\n",
    "Post=L+P\n",
    "plt.contourf(Post)\n",
    "mx= unravel_index(Post.argmax(), Post.shape)\n",
    "\n",
    "print [index[mx[0]],index[mx[1]]]\n"
   ]
  },
  {
   "cell_type": "code",
   "execution_count": 28,
   "metadata": {
    "collapsed": false
   },
   "outputs": [
    {
     "name": "stdout",
     "output_type": "stream",
     "text": [
      "\n"
     ]
    }
   ],
   "source": [
    "dim=2\n",
    "n_p=150\n",
    "k=GPd.gen_sqexp_k_d([1.,0.1,0.2])\n",
    "X = sp.matrix(sp.random.uniform(-1,1,size=[n_p,dim]))\n",
    "K = GPd.buildKsym_d(k,X,[[sp.NaN]]*n_p)\n",
    "Kc = spl.cholesky(K, lower=True)\n",
    "Y = Kc*sp.matrix(sp.random.normal(size=[n_p,1]))\n",
    "S = sp.vstack([10e-3]*n_p)\n",
    "D = [[sp.NaN]]*n_p\n",
    "Data = [X,Y,S,D]"
   ]
  },
  {
   "cell_type": "code",
   "execution_count": 29,
   "metadata": {
    "collapsed": false
   },
   "outputs": [
    {
     "name": "stdout",
     "output_type": "stream",
     "text": [
      "-16776688.7267\n",
      "[-16777148.917389406, 598.03142314509932, -137.84077998070089]\n"
     ]
    }
   ],
   "source": [
    "g = GPd.GPcore(X,Y,sp.vstack([10e-9]*n_p),[[sp.NaN]]*n_p,k2)\n",
    "llk0=g.llk()\n",
    "print llk0\n",
    "print g.llk(extras=True)"
   ]
  },
  {
   "cell_type": "code",
   "execution_count": 30,
   "metadata": {
    "collapsed": false
   },
   "outputs": [],
   "source": [
    "def llk_subset(D,k,n):\n",
    "    [N,dim] = X.shape\n",
    "    subs = sp.random.choice(N,n,replace=False)\n",
    "    X_s = D[0][subs,:]\n",
    "    Y_s = D[1][subs,:]\n",
    "    S_s = D[2][subs,:]\n",
    "    D_s = [D[3][i] for i in subs]\n",
    "    \n",
    "    g = GPd.GPcore(X_s,Y_s,S_s,D_s,k)\n",
    "    return g.llk(extras=True)"
   ]
  },
  {
   "cell_type": "code",
   "execution_count": 31,
   "metadata": {
    "collapsed": false
   },
   "outputs": [
    {
     "name": "stdout",
     "output_type": "stream",
     "text": [
      "[-1.0943487795762785, 0.28874198356673797, -3.6757541328186907]\n",
      "[-8.690927412280276, 0.3556294666421384, -3.6757541328186907]\n",
      "[-2.1193644079873026, 0.014987398100094512, -3.6757541328186907]\n",
      "[-1.2917237958324876, 0.084965417169794041, -3.6757541328186907]\n",
      "[-2.4507228829680354, 0.0244705329544763, -3.6757541328186907]\n",
      "[-2.8697057716203176, 0.0081093016890491955, -3.6757541328186907]\n",
      "[-3.6588394384116167, 1.1901020744757433, -3.6757541328186907]\n",
      "[-1.6156858396325198, 0.013406482586797412, -3.6757541328186907]\n",
      "[-4.4779689949532315, 0.074470328813792813, -3.6757541328186907]\n",
      "[-3.7537194930451276, 0.96732963433892216, -3.6757541328186907]\n"
     ]
    }
   ],
   "source": [
    "for i in xrange(10):\n",
    "    print llk_subset(Data,k,4)"
   ]
  },
  {
   "cell_type": "code",
   "execution_count": 108,
   "metadata": {
    "collapsed": false
   },
   "outputs": [
    {
     "name": "stdout",
     "output_type": "stream",
     "text": [
      "10 11 12 13 14 15 16 17 18 19 20 21 22 23 24 25 26 27 28 29 30 31 32 33 34 35 36 37 38 39 40 41 42 43 44 45 46 47 48 49 50 51 52 53 54 55 56 57 58 59 60 61 62 63 64 65 66 67 68 69 70 71 72 73 74 75 76 77 78 79 80 81 82 83 84 85 86 87 88 89 90 91 92 93 94 95 96 97 98 99 100 101 102 103 104 105 106 107 108 109 110 111 112 113 114 115 116 117 118 119 120 121 122 123 124 125 126 127 128 129 130 131 132 133 134 135 136 137 138 139 140 141 142 143 144 145 146 147 148 149\n"
     ]
    }
   ],
   "source": [
    "#n_pts = map(int,sp.linspace(100,149,20))\n",
    "n_pts = range(10,150)\n",
    "n_sam = 2\n",
    "n_r = n_sam*len(n_pts)\n",
    "dat=[]\n",
    "\n",
    "for n in n_pts:\n",
    "    print n,\n",
    "    for i in xrange(n_sam):\n",
    "        lk=llk_subset(Data,k2,n)\n",
    "        dat.append([n,sum(lk)]+lk)\n",
    "        \n",
    "lmax=llk_subset(Data,k2,150)\n",
    "dat.append([150,sum(lmax)]+lmax)\n",
    "df = pd.DataFrame(dat, columns=('n', 'llk','t1','t2','t3') )"
   ]
  },
  {
   "cell_type": "code",
   "execution_count": 109,
   "metadata": {
    "collapsed": false
   },
   "outputs": [
    {
     "data": {
      "text/plain": [
       "<matplotlib.figure.Figure at 0x7feb01889610>"
      ]
     },
     "execution_count": 109,
     "metadata": {},
     "output_type": "execute_result"
    },
    {
     "data": {
      "image/png": "[encoded data removed]",
      "text/plain": [
       "<matplotlib.figure.Figure at 0x7feb01bf9b90>"
      ]
     },
     "metadata": {},
     "output_type": "display_data"
    },
    {
     "data": {
      "image/png": "[encoded data removed]",
      "text/plain": [
       "<matplotlib.figure.Figure at 0x7feb01b97d90>"
      ]
     },
     "metadata": {},
     "output_type": "display_data"
    },
    {
     "data": {
      "text/plain": [
       "<matplotlib.figure.Figure at 0x7feb01889610>"
      ]
     },
     "metadata": {},
     "output_type": "display_data"
    }
   ],
   "source": [
    "plt.plot(df['n'],-df['llk'],'.')\n",
    "plt.figure()\n",
    "plt.loglog(df['n'],-df['llk'],'.')\n",
    "plt.figure()\n"
   ]
  },
  {
   "cell_type": "code",
   "execution_count": 110,
   "metadata": {
    "collapsed": false
   },
   "outputs": [
    {
     "data": {
      "text/plain": [
       "<matplotlib.figure.Figure at 0x7feb01d90c90>"
      ]
     },
     "execution_count": 110,
     "metadata": {},
     "output_type": "execute_result"
    },
    {
     "data": {
      "image/png": "[encoded data removed]",
      "text/plain": [
       "<matplotlib.figure.Figure at 0x7feb01ab50d0>"
      ]
     },
     "metadata": {},
     "output_type": "display_data"
    },
    {
     "data": {
      "image/png": "[encoded data removed]",
      "text/plain": [
       "<matplotlib.figure.Figure at 0x7feb021042d0>"
      ]
     },
     "metadata": {},
     "output_type": "display_data"
    },
    {
     "data": {
      "image/png": "[encoded data removed]",
      "text/plain": [
       "<matplotlib.figure.Figure at 0x7feb019594d0>"
      ]
     },
     "metadata": {},
     "output_type": "display_data"
    },
    {
     "data": {
      "text/plain": [
       "<matplotlib.figure.Figure at 0x7feb01d90c90>"
      ]
     },
     "metadata": {},
     "output_type": "display_data"
    }
   ],
   "source": [
    "plt.loglog(df['n'],-df['t1'],'.')\n",
    "plt.figure()\n",
    "plt.loglog(df['n'],df['t2'],'.')\n",
    "plt.figure()\n",
    "plt.loglog(df['n'],-df['t3'],'.')\n",
    "plt.figure()"
   ]
  },
  {
   "cell_type": "code",
   "execution_count": 111,
   "metadata": {
    "collapsed": false
   },
   "outputs": [
    {
     "data": {
      "text/plain": [
       "[<matplotlib.lines.Line2D at 0x7feb01250350>]"
      ]
     },
     "execution_count": 111,
     "metadata": {},
     "output_type": "execute_result"
    },
    {
     "data": {
      "image/png": "[encoded data removed]",
      "text/plain": [
       "<matplotlib.figure.Figure at 0x7feb01b97d90>"
      ]
     },
     "metadata": {},
     "output_type": "display_data"
    }
   ],
   "source": [
    "plt.loglog(df['n'],[(-p)*(150./(df['n'][i]))**0.75 for i,p in enumerate(df['t1'])],'.')"
   ]
  },
  {
   "cell_type": "code",
   "execution_count": 112,
   "metadata": {
    "collapsed": false
   },
   "outputs": [
    {
     "data": {
      "text/plain": [
       "[<matplotlib.lines.Line2D at 0x7feb01617c90>]"
      ]
     },
     "execution_count": 112,
     "metadata": {},
     "output_type": "execute_result"
    },
    {
     "data": {
      "image/png": "[encoded data removed]",
      "text/plain": [
       "<matplotlib.figure.Figure at 0x7feb019b2dd0>"
      ]
     },
     "metadata": {},
     "output_type": "display_data"
    }
   ],
   "source": [
    "plt.loglog(df['n'],[(p)*(150./(df['n'][i]))**2 for i,p in enumerate(df['t2'])],'.')"
   ]
  },
  {
   "cell_type": "code",
   "execution_count": 113,
   "metadata": {
    "collapsed": false
   },
   "outputs": [
    {
     "data": {
      "text/plain": [
       "[<matplotlib.lines.Line2D at 0x7feb01889290>]"
      ]
     },
     "execution_count": 113,
     "metadata": {},
     "output_type": "execute_result"
    },
    {
     "data": {
      "image/png": "[encoded data removed]",
      "text/plain": [
       "<matplotlib.figure.Figure at 0x7feb01952250>"
      ]
     },
     "metadata": {},
     "output_type": "display_data"
    }
   ],
   "source": [
    "plt.loglog(df['n'],[(-p)*(150./(df['n'][i]))**1 for i,p in enumerate(df['t3'])],'.')"
   ]
  },
  {
   "cell_type": "code",
   "execution_count": 104,
   "metadata": {
    "collapsed": false
   },
   "outputs": [
    {
     "data": {
      "text/plain": [
       "150"
      ]
     },
     "execution_count": 104,
     "metadata": {},
     "output_type": "execute_result"
    }
   ],
   "source": [
    "df['n'][i]"
   ]
  },
  {
   "cell_type": "code",
   "execution_count": null,
   "metadata": {
    "collapsed": true
   },
   "outputs": [],
   "source": []
  }
 ],
 "metadata": {
  "kernelspec": {
   "display_name": "Python 2",
   "language": "python",
   "name": "python2"
  },
  "language_info": {
   "codemirror_mode": {
    "name": "ipython",
    "version": 2
   },
   "file_extension": ".py",
   "mimetype": "text/x-python",
   "name": "python",
   "nbconvert_exporter": "python",
   "pygments_lexer": "ipython2",
   "version": "2.7.6"
  }
 },
 "nbformat": 4,
 "nbformat_minor": 0
}
